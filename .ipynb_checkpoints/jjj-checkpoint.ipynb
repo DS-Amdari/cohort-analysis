{
 "cells": [
  {
   "cell_type": "markdown",
   "id": "004255a6-c7fa-4537-bd81-18c21e211b11",
   "metadata": {
    "id": "004255a6-c7fa-4537-bd81-18c21e211b11"
   },
   "source": [
    "**Cohort analysis**\n",
    "\n",
    "Cohort analysis involves dividing users into distinct groups, or cohorts, based on certain criteria. In this case study, these cohorts are defined by the time of user acquisition. By grouping users together based on time of acquisition, we can study how different cohorts behave in terms of engagement and retention.\n",
    "\n",
    "For example, you might create cohorts based on the month users first signed up for your service. You can then track how each cohort's activity, such as their conversion rate or lifetime value, evolves over time. This approach allows you to identify trends, anomalies, and areas where you may need to make adjustments to improve user retention and satisfaction."
   ]
  },
  {
   "cell_type": "markdown",
   "id": "d19d5583-c59e-4b9b-aef1-ae281048e71c",
   "metadata": {
    "id": "d19d5583-c59e-4b9b-aef1-ae281048e71c"
   },
   "source": [
    "**Retention Rate Time-Based Cohort Analysis:**\n",
    "\n",
    "Retention rate time-based cohort analysis is a specialized form of cohort analysis that focuses on the retention of users over multiple time periods.\n",
    "\n",
    "To perform retention rate time-based cohort analysis, you would typically:\n",
    "\n",
    "- Create cohorts based on user acquisition dates.\n",
    "\n",
    "- Measure the percentage of users from each cohort who continue to engage with your product or service over time (e.g., after 1 month, 3 months, etc.).\n",
    "\n",
    "- Analyze how retention rates vary across different cohorts and time periods, enabling you to identify trends and make data-driven decisions.\n",
    "\n",
    "This analysis can reveal whether certain cohorts have better or worse retention rates, helping the business understand the factors contributing to user retention or attrition. It can also assist in optimizing marketing, product development, and customer support strategies."
   ]
  },
  {
   "cell_type": "markdown",
   "id": "ea21bbf5-3afc-4952-b3cc-73842d12cae4",
   "metadata": {
    "id": "ea21bbf5-3afc-4952-b3cc-73842d12cae4",
    "tags": []
   },
   "source": [
    "# Import libraries"
   ]
  },
  {
   "cell_type": "code",
   "execution_count": 152,
   "id": "d28858a3-bf87-443f-836e-1655f8160c8a",
   "metadata": {
    "id": "d28858a3-bf87-443f-836e-1655f8160c8a"
   },
   "outputs": [],
   "source": [
    "import pandas as pd\n",
    "import numpy as np\n",
    "import seaborn as sns\n",
    "import matplotlib.pyplot as plt\n",
    "import datetime as dt\n",
    "from matplotlib.ticker import FuncFormatter"
   ]
  },
  {
   "cell_type": "markdown",
   "id": "eec64e4a-0c08-4533-9fb7-cdeabd625de2",
   "metadata": {
    "id": "eec64e4a-0c08-4533-9fb7-cdeabd625de2",
    "tags": []
   },
   "source": [
    "# Load and prepare dataset"
   ]
  },
  {
   "cell_type": "code",
   "execution_count": 153,
   "id": "824d1bcf-a306-4801-a9b1-b3180e182d16",
   "metadata": {
    "id": "824d1bcf-a306-4801-a9b1-b3180e182d16",
    "outputId": "9d8de677-e246-43c9-9172-e403bab3f13f"
   },
   "outputs": [
    {
     "data": {
      "text/html": [
       "<div>\n",
       "<style scoped>\n",
       "    .dataframe tbody tr th:only-of-type {\n",
       "        vertical-align: middle;\n",
       "    }\n",
       "\n",
       "    .dataframe tbody tr th {\n",
       "        vertical-align: top;\n",
       "    }\n",
       "\n",
       "    .dataframe thead th {\n",
       "        text-align: right;\n",
       "    }\n",
       "</style>\n",
       "<table border=\"1\" class=\"dataframe\">\n",
       "  <thead>\n",
       "    <tr style=\"text-align: right;\">\n",
       "      <th></th>\n",
       "      <th>InvoiceNo</th>\n",
       "      <th>InvoiceDate</th>\n",
       "      <th>CustomerID</th>\n",
       "      <th>StockCode</th>\n",
       "      <th>Description</th>\n",
       "      <th>Quantity</th>\n",
       "      <th>UnitPrice</th>\n",
       "      <th>Country</th>\n",
       "    </tr>\n",
       "  </thead>\n",
       "  <tbody>\n",
       "    <tr>\n",
       "      <th>0</th>\n",
       "      <td>536365</td>\n",
       "      <td>2010-12-01 08:26:00</td>\n",
       "      <td>17850.0</td>\n",
       "      <td>SC1734</td>\n",
       "      <td>Electronics</td>\n",
       "      <td>65</td>\n",
       "      <td>10.23</td>\n",
       "      <td>Egypt</td>\n",
       "    </tr>\n",
       "    <tr>\n",
       "      <th>1</th>\n",
       "      <td>536365</td>\n",
       "      <td>2010-12-01 08:26:00</td>\n",
       "      <td>17850.0</td>\n",
       "      <td>SC2088</td>\n",
       "      <td>Furniture</td>\n",
       "      <td>95</td>\n",
       "      <td>19.61</td>\n",
       "      <td>Mali</td>\n",
       "    </tr>\n",
       "    <tr>\n",
       "      <th>2</th>\n",
       "      <td>536365</td>\n",
       "      <td>2010-12-01 08:26:00</td>\n",
       "      <td>17850.0</td>\n",
       "      <td>SC3463</td>\n",
       "      <td>Books</td>\n",
       "      <td>78</td>\n",
       "      <td>61.49</td>\n",
       "      <td>Mali</td>\n",
       "    </tr>\n",
       "    <tr>\n",
       "      <th>3</th>\n",
       "      <td>536365</td>\n",
       "      <td>2010-12-01 08:26:00</td>\n",
       "      <td>17850.0</td>\n",
       "      <td>SC6228</td>\n",
       "      <td>Toys</td>\n",
       "      <td>15</td>\n",
       "      <td>24.73</td>\n",
       "      <td>South Africa</td>\n",
       "    </tr>\n",
       "    <tr>\n",
       "      <th>4</th>\n",
       "      <td>536365</td>\n",
       "      <td>2010-12-01 08:26:00</td>\n",
       "      <td>17850.0</td>\n",
       "      <td>SC2149</td>\n",
       "      <td>Toys</td>\n",
       "      <td>50</td>\n",
       "      <td>38.83</td>\n",
       "      <td>Rwanda</td>\n",
       "    </tr>\n",
       "    <tr>\n",
       "      <th>...</th>\n",
       "      <td>...</td>\n",
       "      <td>...</td>\n",
       "      <td>...</td>\n",
       "      <td>...</td>\n",
       "      <td>...</td>\n",
       "      <td>...</td>\n",
       "      <td>...</td>\n",
       "      <td>...</td>\n",
       "    </tr>\n",
       "    <tr>\n",
       "      <th>541904</th>\n",
       "      <td>581587</td>\n",
       "      <td>2011-12-09 12:50:00</td>\n",
       "      <td>12680.0</td>\n",
       "      <td>SC5440</td>\n",
       "      <td>Furniture</td>\n",
       "      <td>25</td>\n",
       "      <td>36.53</td>\n",
       "      <td>Mozambique</td>\n",
       "    </tr>\n",
       "    <tr>\n",
       "      <th>541905</th>\n",
       "      <td>581587</td>\n",
       "      <td>2011-12-09 12:50:00</td>\n",
       "      <td>12680.0</td>\n",
       "      <td>SC3576</td>\n",
       "      <td>Cloths</td>\n",
       "      <td>94</td>\n",
       "      <td>90.65</td>\n",
       "      <td>Tunisia</td>\n",
       "    </tr>\n",
       "    <tr>\n",
       "      <th>541906</th>\n",
       "      <td>581587</td>\n",
       "      <td>2011-12-09 12:50:00</td>\n",
       "      <td>12680.0</td>\n",
       "      <td>SC5283</td>\n",
       "      <td>Furniture</td>\n",
       "      <td>14</td>\n",
       "      <td>40.07</td>\n",
       "      <td>Somalia</td>\n",
       "    </tr>\n",
       "    <tr>\n",
       "      <th>541907</th>\n",
       "      <td>581587</td>\n",
       "      <td>2011-12-09 12:50:00</td>\n",
       "      <td>12680.0</td>\n",
       "      <td>SC1099</td>\n",
       "      <td>Cosmetics</td>\n",
       "      <td>45</td>\n",
       "      <td>79.83</td>\n",
       "      <td>Senegal</td>\n",
       "    </tr>\n",
       "    <tr>\n",
       "      <th>541908</th>\n",
       "      <td>581587</td>\n",
       "      <td>2011-12-09 12:50:00</td>\n",
       "      <td>12680.0</td>\n",
       "      <td>SC9276</td>\n",
       "      <td>Toys</td>\n",
       "      <td>6</td>\n",
       "      <td>46.62</td>\n",
       "      <td>Ethiopia</td>\n",
       "    </tr>\n",
       "  </tbody>\n",
       "</table>\n",
       "<p>541909 rows × 8 columns</p>\n",
       "</div>"
      ],
      "text/plain": [
       "       InvoiceNo          InvoiceDate  CustomerID StockCode  Description  \\\n",
       "0         536365  2010-12-01 08:26:00     17850.0    SC1734  Electronics   \n",
       "1         536365  2010-12-01 08:26:00     17850.0    SC2088    Furniture   \n",
       "2         536365  2010-12-01 08:26:00     17850.0    SC3463        Books   \n",
       "3         536365  2010-12-01 08:26:00     17850.0    SC6228         Toys   \n",
       "4         536365  2010-12-01 08:26:00     17850.0    SC2149         Toys   \n",
       "...          ...                  ...         ...       ...          ...   \n",
       "541904    581587  2011-12-09 12:50:00     12680.0    SC5440    Furniture   \n",
       "541905    581587  2011-12-09 12:50:00     12680.0    SC3576       Cloths   \n",
       "541906    581587  2011-12-09 12:50:00     12680.0    SC5283    Furniture   \n",
       "541907    581587  2011-12-09 12:50:00     12680.0    SC1099    Cosmetics   \n",
       "541908    581587  2011-12-09 12:50:00     12680.0    SC9276         Toys   \n",
       "\n",
       "        Quantity  UnitPrice       Country  \n",
       "0             65      10.23         Egypt  \n",
       "1             95      19.61          Mali  \n",
       "2             78      61.49          Mali  \n",
       "3             15      24.73  South Africa  \n",
       "4             50      38.83        Rwanda  \n",
       "...          ...        ...           ...  \n",
       "541904        25      36.53    Mozambique  \n",
       "541905        94      90.65       Tunisia  \n",
       "541906        14      40.07       Somalia  \n",
       "541907        45      79.83       Senegal  \n",
       "541908         6      46.62      Ethiopia  \n",
       "\n",
       "[541909 rows x 8 columns]"
      ]
     },
     "execution_count": 153,
     "metadata": {},
     "output_type": "execute_result"
    }
   ],
   "source": [
    "# Load daatset\n",
    "\n",
    "data = pd.read_csv(\"dataset_ecommerce.csv\")\n",
    "data"
   ]
  },
  {
   "cell_type": "code",
   "execution_count": 154,
   "id": "d1fb2176-5eca-4948-8968-7759faffafd3",
   "metadata": {
    "id": "d1fb2176-5eca-4948-8968-7759faffafd3",
    "outputId": "dd914df8-37a4-49ea-9198-25d532a7da7d"
   },
   "outputs": [
    {
     "data": {
      "text/html": [
       "<div>\n",
       "<style scoped>\n",
       "    .dataframe tbody tr th:only-of-type {\n",
       "        vertical-align: middle;\n",
       "    }\n",
       "\n",
       "    .dataframe tbody tr th {\n",
       "        vertical-align: top;\n",
       "    }\n",
       "\n",
       "    .dataframe thead th {\n",
       "        text-align: right;\n",
       "    }\n",
       "</style>\n",
       "<table border=\"1\" class=\"dataframe\">\n",
       "  <thead>\n",
       "    <tr style=\"text-align: right;\">\n",
       "      <th></th>\n",
       "      <th>InvoiceNo</th>\n",
       "      <th>InvoiceDate</th>\n",
       "      <th>CustomerID</th>\n",
       "      <th>StockCode</th>\n",
       "      <th>Description</th>\n",
       "      <th>Quantity</th>\n",
       "      <th>UnitPrice</th>\n",
       "      <th>Country</th>\n",
       "    </tr>\n",
       "  </thead>\n",
       "  <tbody>\n",
       "    <tr>\n",
       "      <th>count</th>\n",
       "      <td>541909</td>\n",
       "      <td>541909</td>\n",
       "      <td>406829.000000</td>\n",
       "      <td>541909</td>\n",
       "      <td>541909</td>\n",
       "      <td>541909.000000</td>\n",
       "      <td>541909.000000</td>\n",
       "      <td>541909</td>\n",
       "    </tr>\n",
       "    <tr>\n",
       "      <th>unique</th>\n",
       "      <td>25900</td>\n",
       "      <td>23260</td>\n",
       "      <td>NaN</td>\n",
       "      <td>9000</td>\n",
       "      <td>10</td>\n",
       "      <td>NaN</td>\n",
       "      <td>NaN</td>\n",
       "      <td>28</td>\n",
       "    </tr>\n",
       "    <tr>\n",
       "      <th>top</th>\n",
       "      <td>573585</td>\n",
       "      <td>2011-10-31 14:41:00</td>\n",
       "      <td>NaN</td>\n",
       "      <td>SC2014</td>\n",
       "      <td>Sports Equipment</td>\n",
       "      <td>NaN</td>\n",
       "      <td>NaN</td>\n",
       "      <td>Cote d'Ivoire</td>\n",
       "    </tr>\n",
       "    <tr>\n",
       "      <th>freq</th>\n",
       "      <td>1114</td>\n",
       "      <td>1114</td>\n",
       "      <td>NaN</td>\n",
       "      <td>96</td>\n",
       "      <td>54765</td>\n",
       "      <td>NaN</td>\n",
       "      <td>NaN</td>\n",
       "      <td>19651</td>\n",
       "    </tr>\n",
       "    <tr>\n",
       "      <th>mean</th>\n",
       "      <td>NaN</td>\n",
       "      <td>NaN</td>\n",
       "      <td>15287.690570</td>\n",
       "      <td>NaN</td>\n",
       "      <td>NaN</td>\n",
       "      <td>50.534748</td>\n",
       "      <td>50.476354</td>\n",
       "      <td>NaN</td>\n",
       "    </tr>\n",
       "    <tr>\n",
       "      <th>std</th>\n",
       "      <td>NaN</td>\n",
       "      <td>NaN</td>\n",
       "      <td>1713.600303</td>\n",
       "      <td>NaN</td>\n",
       "      <td>NaN</td>\n",
       "      <td>28.849367</td>\n",
       "      <td>28.564775</td>\n",
       "      <td>NaN</td>\n",
       "    </tr>\n",
       "    <tr>\n",
       "      <th>min</th>\n",
       "      <td>NaN</td>\n",
       "      <td>NaN</td>\n",
       "      <td>12346.000000</td>\n",
       "      <td>NaN</td>\n",
       "      <td>NaN</td>\n",
       "      <td>1.000000</td>\n",
       "      <td>1.000000</td>\n",
       "      <td>NaN</td>\n",
       "    </tr>\n",
       "    <tr>\n",
       "      <th>25%</th>\n",
       "      <td>NaN</td>\n",
       "      <td>NaN</td>\n",
       "      <td>13953.000000</td>\n",
       "      <td>NaN</td>\n",
       "      <td>NaN</td>\n",
       "      <td>26.000000</td>\n",
       "      <td>25.750000</td>\n",
       "      <td>NaN</td>\n",
       "    </tr>\n",
       "    <tr>\n",
       "      <th>50%</th>\n",
       "      <td>NaN</td>\n",
       "      <td>NaN</td>\n",
       "      <td>15152.000000</td>\n",
       "      <td>NaN</td>\n",
       "      <td>NaN</td>\n",
       "      <td>51.000000</td>\n",
       "      <td>50.430000</td>\n",
       "      <td>NaN</td>\n",
       "    </tr>\n",
       "    <tr>\n",
       "      <th>75%</th>\n",
       "      <td>NaN</td>\n",
       "      <td>NaN</td>\n",
       "      <td>16791.000000</td>\n",
       "      <td>NaN</td>\n",
       "      <td>NaN</td>\n",
       "      <td>76.000000</td>\n",
       "      <td>75.180000</td>\n",
       "      <td>NaN</td>\n",
       "    </tr>\n",
       "    <tr>\n",
       "      <th>max</th>\n",
       "      <td>NaN</td>\n",
       "      <td>NaN</td>\n",
       "      <td>18287.000000</td>\n",
       "      <td>NaN</td>\n",
       "      <td>NaN</td>\n",
       "      <td>100.000000</td>\n",
       "      <td>100.000000</td>\n",
       "      <td>NaN</td>\n",
       "    </tr>\n",
       "  </tbody>\n",
       "</table>\n",
       "</div>"
      ],
      "text/plain": [
       "       InvoiceNo          InvoiceDate     CustomerID StockCode  \\\n",
       "count     541909               541909  406829.000000    541909   \n",
       "unique     25900                23260            NaN      9000   \n",
       "top       573585  2011-10-31 14:41:00            NaN    SC2014   \n",
       "freq        1114                 1114            NaN        96   \n",
       "mean         NaN                  NaN   15287.690570       NaN   \n",
       "std          NaN                  NaN    1713.600303       NaN   \n",
       "min          NaN                  NaN   12346.000000       NaN   \n",
       "25%          NaN                  NaN   13953.000000       NaN   \n",
       "50%          NaN                  NaN   15152.000000       NaN   \n",
       "75%          NaN                  NaN   16791.000000       NaN   \n",
       "max          NaN                  NaN   18287.000000       NaN   \n",
       "\n",
       "             Description       Quantity      UnitPrice        Country  \n",
       "count             541909  541909.000000  541909.000000         541909  \n",
       "unique                10            NaN            NaN             28  \n",
       "top     Sports Equipment            NaN            NaN  Cote d'Ivoire  \n",
       "freq               54765            NaN            NaN          19651  \n",
       "mean                 NaN      50.534748      50.476354            NaN  \n",
       "std                  NaN      28.849367      28.564775            NaN  \n",
       "min                  NaN       1.000000       1.000000            NaN  \n",
       "25%                  NaN      26.000000      25.750000            NaN  \n",
       "50%                  NaN      51.000000      50.430000            NaN  \n",
       "75%                  NaN      76.000000      75.180000            NaN  \n",
       "max                  NaN     100.000000     100.000000            NaN  "
      ]
     },
     "execution_count": 154,
     "metadata": {},
     "output_type": "execute_result"
    }
   ],
   "source": [
    "data.describe(include =\"all\")"
   ]
  },
  {
   "cell_type": "code",
   "execution_count": 155,
   "id": "c244ec51-1320-4493-b963-ccd41217a3a1",
   "metadata": {
    "id": "c244ec51-1320-4493-b963-ccd41217a3a1",
    "outputId": "98defff8-836d-4463-e425-8d85735b5a09"
   },
   "outputs": [
    {
     "name": "stdout",
     "output_type": "stream",
     "text": [
      "<class 'pandas.core.frame.DataFrame'>\n",
      "RangeIndex: 541909 entries, 0 to 541908\n",
      "Data columns (total 8 columns):\n",
      " #   Column       Non-Null Count   Dtype  \n",
      "---  ------       --------------   -----  \n",
      " 0   InvoiceNo    541909 non-null  object \n",
      " 1   InvoiceDate  541909 non-null  object \n",
      " 2   CustomerID   406829 non-null  float64\n",
      " 3   StockCode    541909 non-null  object \n",
      " 4   Description  541909 non-null  object \n",
      " 5   Quantity     541909 non-null  int64  \n",
      " 6   UnitPrice    541909 non-null  float64\n",
      " 7   Country      541909 non-null  object \n",
      "dtypes: float64(2), int64(1), object(5)\n",
      "memory usage: 33.1+ MB\n"
     ]
    }
   ],
   "source": [
    "data.info()"
   ]
  },
  {
   "cell_type": "code",
   "execution_count": 156,
   "id": "13255bde-bbe2-44a2-b0a4-1c34f1ad2371",
   "metadata": {
    "id": "13255bde-bbe2-44a2-b0a4-1c34f1ad2371",
    "outputId": "b588677b-562b-4d2d-f953-4afc1e9cea64"
   },
   "outputs": [
    {
     "data": {
      "text/plain": [
       "InvoiceNo           0\n",
       "InvoiceDate         0\n",
       "CustomerID     135080\n",
       "StockCode           0\n",
       "Description         0\n",
       "Quantity            0\n",
       "UnitPrice           0\n",
       "Country             0\n",
       "dtype: int64"
      ]
     },
     "execution_count": 156,
     "metadata": {},
     "output_type": "execute_result"
    }
   ],
   "source": [
    "data.isnull().sum()"
   ]
  },
  {
   "cell_type": "code",
   "execution_count": 157,
   "id": "3904829c-efb1-45c4-93b5-afcb888f90e7",
   "metadata": {
    "id": "3904829c-efb1-45c4-93b5-afcb888f90e7"
   },
   "outputs": [],
   "source": [
    "# Drop missing columm\n",
    "data.dropna(inplace = True)\n",
    "\n",
    "#we can only track the activities of customers that are known (those with customerID)"
   ]
  },
  {
   "cell_type": "code",
   "execution_count": 158,
   "id": "574ba543-4513-4de3-b595-51c221517b86",
   "metadata": {
    "id": "574ba543-4513-4de3-b595-51c221517b86"
   },
   "outputs": [],
   "source": [
    "data[\"InvoiceDate\"] = pd.to_datetime(data[\"InvoiceDate\"])"
   ]
  },
  {
   "cell_type": "markdown",
   "id": "0cfb6614-3877-4ae0-9a7a-8d16da4f66c6",
   "metadata": {
    "id": "0cfb6614-3877-4ae0-9a7a-8d16da4f66c6",
    "tags": []
   },
   "source": [
    "# Exploratory data analysis"
   ]
  },
  {
   "cell_type": "markdown",
   "id": "da022a03-c54f-4207-a5e0-a9114a427c06",
   "metadata": {
    "id": "da022a03-c54f-4207-a5e0-a9114a427c06",
    "tags": []
   },
   "source": [
    "## Analysis by country"
   ]
  },
  {
   "cell_type": "markdown",
   "id": "0dea663a-6ae5-4b3b-9a52-8f6059b4feab",
   "metadata": {
    "id": "0dea663a-6ae5-4b3b-9a52-8f6059b4feab"
   },
   "source": [
    "**Bivariate analysis of countries and total number of purchase**"
   ]
  },
  {
   "cell_type": "code",
   "execution_count": 159,
   "id": "56b0f035-e71d-4ad3-bc8d-bc51898cfc75",
   "metadata": {
    "id": "56b0f035-e71d-4ad3-bc8d-bc51898cfc75"
   },
   "outputs": [],
   "source": [
    "quantity_per_country = data.groupby([\"Country\"])[\"Quantity\"].sum().reset_index()\n",
    "quantity_per_country = quantity_per_country.sort_values(\"Quantity\", ascending = False).reset_index()"
   ]
  },
  {
   "cell_type": "code",
   "execution_count": 160,
   "id": "9a14e92a-dc55-44db-89b8-187f35f0db7b",
   "metadata": {
    "id": "9a14e92a-dc55-44db-89b8-187f35f0db7b",
    "outputId": "5fee5ccb-0c7b-4e08-9542-0cc39b14f338"
   },
   "outputs": [
    {
     "data": {
      "text/html": [
       "<div>\n",
       "<style scoped>\n",
       "    .dataframe tbody tr th:only-of-type {\n",
       "        vertical-align: middle;\n",
       "    }\n",
       "\n",
       "    .dataframe tbody tr th {\n",
       "        vertical-align: top;\n",
       "    }\n",
       "\n",
       "    .dataframe thead th {\n",
       "        text-align: right;\n",
       "    }\n",
       "</style>\n",
       "<table border=\"1\" class=\"dataframe\">\n",
       "  <thead>\n",
       "    <tr style=\"text-align: right;\">\n",
       "      <th></th>\n",
       "      <th>index</th>\n",
       "      <th>Country</th>\n",
       "      <th>Quantity</th>\n",
       "    </tr>\n",
       "  </thead>\n",
       "  <tbody>\n",
       "    <tr>\n",
       "      <th>0</th>\n",
       "      <td>23</td>\n",
       "      <td>Togo</td>\n",
       "      <td>741223</td>\n",
       "    </tr>\n",
       "    <tr>\n",
       "      <th>1</th>\n",
       "      <td>20</td>\n",
       "      <td>South Africa</td>\n",
       "      <td>740589</td>\n",
       "    </tr>\n",
       "    <tr>\n",
       "      <th>2</th>\n",
       "      <td>4</td>\n",
       "      <td>Cote d'Ivoire</td>\n",
       "      <td>740229</td>\n",
       "    </tr>\n",
       "  </tbody>\n",
       "</table>\n",
       "</div>"
      ],
      "text/plain": [
       "   index        Country  Quantity\n",
       "0     23           Togo    741223\n",
       "1     20   South Africa    740589\n",
       "2      4  Cote d'Ivoire    740229"
      ]
     },
     "execution_count": 160,
     "metadata": {},
     "output_type": "execute_result"
    }
   ],
   "source": [
    "quantity_per_country.head(3)"
   ]
  },
  {
   "cell_type": "code",
   "execution_count": 161,
   "id": "6261c857-1bc6-4528-bc64-43e6bf2958bc",
   "metadata": {
    "id": "6261c857-1bc6-4528-bc64-43e6bf2958bc",
    "outputId": "59c141a7-1e06-439d-cab8-2d4d2d28b547"
   },
   "outputs": [
    {
     "data": {
      "image/png": "[encoded data removed]",
      "text/plain": [
       "<Figure size 2000x500 with 1 Axes>"
      ]
     },
     "metadata": {},
     "output_type": "display_data"
    }
   ],
   "source": [
    "# Draw a plot of top 10 countries with highest number of quantity purchase\n",
    "top_10_countries = quantity_per_country.head(10)\n",
    "\n",
    "# Create a bar chart from the selected data\n",
    "plt.figure(figsize=(20, 5))\n",
    "\n",
    "y_format = FuncFormatter(lambda x, _: f'{x / 1000:.1f}K')\n",
    "ax = sns.barplot(x='Country', y='Quantity', data= top_10_countries)\n",
    "ax.yaxis.set_major_formatter(y_format)\n",
    "\n",
    "plt.xlabel('Countries')\n",
    "plt.ylabel('Total quantity purchased in (1000s)')\n",
    "plt.title('Bar Chart of top 10 countries with highest purchase')\n",
    "plt.show()"
   ]
  },
  {
   "cell_type": "code",
   "execution_count": 162,
   "id": "299828d5-a855-496c-9f2a-deb380ffb1df",
   "metadata": {
    "id": "299828d5-a855-496c-9f2a-deb380ffb1df",
    "outputId": "f33ed8ef-7d84-4c44-f8ce-c8da912b5fc4"
   },
   "outputs": [
    {
     "data": {
      "image/png": "[encoded data removed]",
      "text/plain": [
       "<Figure size 2000x500 with 1 Axes>"
      ]
     },
     "metadata": {},
     "output_type": "display_data"
    }
   ],
   "source": [
    "# Draw a plot of 10 countries with least number of quantity purchase\n",
    "least_10_countries = quantity_per_country.tail(10)\n",
    "\n",
    "# Create a bar chart from the selected data\n",
    "plt.figure(figsize=(20, 5))\n",
    "\n",
    "y_format = FuncFormatter(lambda x, _: f'{x / 1000:.1f}K')\n",
    "ax = sns.barplot(x='Country', y='Quantity', data= least_10_countries)\n",
    "ax.yaxis.set_major_formatter(y_format)\n",
    "\n",
    "plt.xlabel('Countries')\n",
    "plt.ylabel('Total quantity purchased in (1000s)')\n",
    "plt.title('Bar Chart of countries with least purchase')\n",
    "plt.show()"
   ]
  },
  {
   "cell_type": "markdown",
   "id": "09514008-059a-447e-b027-3c498092de61",
   "metadata": {
    "id": "09514008-059a-447e-b027-3c498092de61"
   },
   "source": [
    "**Bivariate analysis of countries and number of customers**"
   ]
  },
  {
   "cell_type": "code",
   "execution_count": 163,
   "id": "1fb07b7c-3e11-4566-b14d-848a094324da",
   "metadata": {
    "id": "1fb07b7c-3e11-4566-b14d-848a094324da"
   },
   "outputs": [],
   "source": [
    "country_to_customers = data.groupby([\"Country\"])[\"CustomerID\"].nunique().reset_index()\n",
    "country_to_customers = country_to_customers.sort_values(\"CustomerID\", ascending = False).reset_index()\n",
    "country_to_customers.rename(columns = {\"CustomerID\" : \"Number of customers\"}, inplace = True)"
   ]
  },
  {
   "cell_type": "code",
   "execution_count": 164,
   "id": "4769dc51-8376-4bd6-a8c7-529ef3722523",
   "metadata": {
    "id": "4769dc51-8376-4bd6-a8c7-529ef3722523",
    "outputId": "c7ebf550-73b6-478b-bccf-00ba65cc8ede"
   },
   "outputs": [
    {
     "data": {
      "text/html": [
       "<div>\n",
       "<style scoped>\n",
       "    .dataframe tbody tr th:only-of-type {\n",
       "        vertical-align: middle;\n",
       "    }\n",
       "\n",
       "    .dataframe tbody tr th {\n",
       "        vertical-align: top;\n",
       "    }\n",
       "\n",
       "    .dataframe thead th {\n",
       "        text-align: right;\n",
       "    }\n",
       "</style>\n",
       "<table border=\"1\" class=\"dataframe\">\n",
       "  <thead>\n",
       "    <tr style=\"text-align: right;\">\n",
       "      <th></th>\n",
       "      <th>index</th>\n",
       "      <th>Country</th>\n",
       "      <th>Number of customers</th>\n",
       "    </tr>\n",
       "  </thead>\n",
       "  <tbody>\n",
       "    <tr>\n",
       "      <th>0</th>\n",
       "      <td>13</td>\n",
       "      <td>Mozambique</td>\n",
       "      <td>3072</td>\n",
       "    </tr>\n",
       "    <tr>\n",
       "      <th>1</th>\n",
       "      <td>1</td>\n",
       "      <td>Benin</td>\n",
       "      <td>3054</td>\n",
       "    </tr>\n",
       "    <tr>\n",
       "      <th>2</th>\n",
       "      <td>23</td>\n",
       "      <td>Togo</td>\n",
       "      <td>3053</td>\n",
       "    </tr>\n",
       "  </tbody>\n",
       "</table>\n",
       "</div>"
      ],
      "text/plain": [
       "   index     Country  Number of customers\n",
       "0     13  Mozambique                 3072\n",
       "1      1       Benin                 3054\n",
       "2     23        Togo                 3053"
      ]
     },
     "execution_count": 164,
     "metadata": {},
     "output_type": "execute_result"
    }
   ],
   "source": [
    "country_to_customers.head(3)"
   ]
  },
  {
   "cell_type": "code",
   "execution_count": 165,
   "id": "6e3b0a7d-afe3-4e15-80c8-b6cc12d5fa11",
   "metadata": {
    "id": "6e3b0a7d-afe3-4e15-80c8-b6cc12d5fa11",
    "outputId": "bbf75a53-fa99-4ca4-ac94-524d0a420423"
   },
   "outputs": [
    {
     "data": {
      "image/png": "[encoded data removed]",
      "text/plain": [
       "<Figure size 2000x500 with 1 Axes>"
      ]
     },
     "metadata": {},
     "output_type": "display_data"
    }
   ],
   "source": [
    "# Draw a plot of top 10 countries with highest number of customers (unique customerID)\n",
    "top_countries_to_customers = country_to_customers.head(10)\n",
    "\n",
    "# Create a bar chart from the selected data\n",
    "plt.figure(figsize=(20, 5))\n",
    "\n",
    "sns.barplot(x='Country', y='Number of customers', data= top_countries_to_customers)\n",
    "\n",
    "plt.xlabel('Countries')\n",
    "plt.ylabel('Total number of customers')\n",
    "plt.title('Bar Chart of top 10 countries with highest number of customers')\n",
    "plt.show()"
   ]
  },
  {
   "cell_type": "markdown",
   "id": "9ddbf615-31c7-481a-afca-d12798188b8e",
   "metadata": {
    "id": "9ddbf615-31c7-481a-afca-d12798188b8e",
    "tags": []
   },
   "source": [
    "## Sales trend"
   ]
  },
  {
   "cell_type": "code",
   "execution_count": 166,
   "id": "0a464e5e-858c-45cb-ac12-133a91f2b9db",
   "metadata": {
    "id": "0a464e5e-858c-45cb-ac12-133a91f2b9db"
   },
   "outputs": [],
   "source": [
    "# Group the data by month and calculate the total monthly sales\n",
    "monthly_sales = data.groupby(data['InvoiceDate'].dt.to_period('M'))['Quantity'].sum()"
   ]
  },
  {
   "cell_type": "code",
   "execution_count": 167,
   "id": "7e7617d4-330b-440b-932c-482e134977ce",
   "metadata": {
    "id": "7e7617d4-330b-440b-932c-482e134977ce",
    "outputId": "4c29c672-ba26-4355-9363-a51015555d19"
   },
   "outputs": [
    {
     "data": {
      "image/png": "[encoded data removed]",
      "text/plain": [
       "<Figure size 2000x1000 with 1 Axes>"
      ]
     },
     "metadata": {},
     "output_type": "display_data"
    }
   ],
   "source": [
    "# Create a line chart\n",
    "plt.figure(figsize=(20, 10))\n",
    "plt.plot(monthly_sales.index.strftime('%Y-%m'), monthly_sales.values, marker='o', linestyle='-')\n",
    "plt.xlabel('Month')\n",
    "plt.ylabel('Total Sales')\n",
    "plt.title('Monthly Sales Trend')\n",
    "plt.grid(True)\n",
    "\n",
    "# Display the plot\n",
    "plt.show()\n"
   ]
  },
  {
   "cell_type": "markdown",
   "id": "848cb03f-5e3b-47bf-b29a-d4af9fd21e0b",
   "metadata": {
    "id": "848cb03f-5e3b-47bf-b29a-d4af9fd21e0b"
   },
   "source": [
    "**Observations**\n",
    "\n",
    "- December 2010 to August 2011: Noticeable fluctuations in sales quantity.\n",
    "- August 2011 to November 2011: A significant sales increase occurred.\n",
    "- November 2011 to December 2011: Sales experienced a sudden and substantial decline."
   ]
  },
  {
   "cell_type": "markdown",
   "id": "7f507032-af3b-4379-a657-deb508b7b871",
   "metadata": {
    "id": "7f507032-af3b-4379-a657-deb508b7b871",
    "tags": []
   },
   "source": [
    "# Cohort Analysis"
   ]
  },
  {
   "cell_type": "markdown",
   "id": "c515d2c3-0896-46d2-8914-6aa3d8ae31a1",
   "metadata": {
    "id": "c515d2c3-0896-46d2-8914-6aa3d8ae31a1",
    "tags": []
   },
   "source": [
    "## create cohort date"
   ]
  },
  {
   "cell_type": "markdown",
   "id": "0e4bae80-3cfc-4c77-953d-c50b5b25c29e",
   "metadata": {
    "id": "0e4bae80-3cfc-4c77-953d-c50b5b25c29e"
   },
   "source": [
    "Since we are carrying out a Time-based cohort analysis, the cohorts will be grouped according to the dates they made their first purchase\n",
    "\n",
    "and Retention rate will be calculated by analysis the months they stayed active after their first purchase"
   ]
  },
  {
   "cell_type": "code",
   "execution_count": 168,
   "id": "3257caa2-3299-4e45-989d-b6595fd59fc6",
   "metadata": {
    "id": "3257caa2-3299-4e45-989d-b6595fd59fc6"
   },
   "outputs": [],
   "source": [
    "#create Invoice month as new feature\n",
    "def get_month(x):\n",
    "    return dt.datetime(x.year, x.month, 1)"
   ]
  },
  {
   "cell_type": "code",
   "execution_count": 169,
   "id": "32775c8b-0144-4674-a18c-3f0b4421b871",
   "metadata": {
    "id": "32775c8b-0144-4674-a18c-3f0b4421b871",
    "outputId": "7d65dd71-3932-4677-97f0-8921344a58c1"
   },
   "outputs": [
    {
     "data": {
      "text/html": [
       "<div>\n",
       "<style scoped>\n",
       "    .dataframe tbody tr th:only-of-type {\n",
       "        vertical-align: middle;\n",
       "    }\n",
       "\n",
       "    .dataframe tbody tr th {\n",
       "        vertical-align: top;\n",
       "    }\n",
       "\n",
       "    .dataframe thead th {\n",
       "        text-align: right;\n",
       "    }\n",
       "</style>\n",
       "<table border=\"1\" class=\"dataframe\">\n",
       "  <thead>\n",
       "    <tr style=\"text-align: right;\">\n",
       "      <th></th>\n",
       "      <th>InvoiceNo</th>\n",
       "      <th>InvoiceDate</th>\n",
       "      <th>CustomerID</th>\n",
       "      <th>StockCode</th>\n",
       "      <th>Description</th>\n",
       "      <th>Quantity</th>\n",
       "      <th>UnitPrice</th>\n",
       "      <th>Country</th>\n",
       "    </tr>\n",
       "  </thead>\n",
       "  <tbody>\n",
       "    <tr>\n",
       "      <th>541904</th>\n",
       "      <td>581587</td>\n",
       "      <td>2011-12-01</td>\n",
       "      <td>12680.0</td>\n",
       "      <td>SC5440</td>\n",
       "      <td>Furniture</td>\n",
       "      <td>25</td>\n",
       "      <td>36.53</td>\n",
       "      <td>Mozambique</td>\n",
       "    </tr>\n",
       "    <tr>\n",
       "      <th>541905</th>\n",
       "      <td>581587</td>\n",
       "      <td>2011-12-01</td>\n",
       "      <td>12680.0</td>\n",
       "      <td>SC3576</td>\n",
       "      <td>Cloths</td>\n",
       "      <td>94</td>\n",
       "      <td>90.65</td>\n",
       "      <td>Tunisia</td>\n",
       "    </tr>\n",
       "    <tr>\n",
       "      <th>541906</th>\n",
       "      <td>581587</td>\n",
       "      <td>2011-12-01</td>\n",
       "      <td>12680.0</td>\n",
       "      <td>SC5283</td>\n",
       "      <td>Furniture</td>\n",
       "      <td>14</td>\n",
       "      <td>40.07</td>\n",
       "      <td>Somalia</td>\n",
       "    </tr>\n",
       "    <tr>\n",
       "      <th>541907</th>\n",
       "      <td>581587</td>\n",
       "      <td>2011-12-01</td>\n",
       "      <td>12680.0</td>\n",
       "      <td>SC1099</td>\n",
       "      <td>Cosmetics</td>\n",
       "      <td>45</td>\n",
       "      <td>79.83</td>\n",
       "      <td>Senegal</td>\n",
       "    </tr>\n",
       "    <tr>\n",
       "      <th>541908</th>\n",
       "      <td>581587</td>\n",
       "      <td>2011-12-01</td>\n",
       "      <td>12680.0</td>\n",
       "      <td>SC9276</td>\n",
       "      <td>Toys</td>\n",
       "      <td>6</td>\n",
       "      <td>46.62</td>\n",
       "      <td>Ethiopia</td>\n",
       "    </tr>\n",
       "  </tbody>\n",
       "</table>\n",
       "</div>"
      ],
      "text/plain": [
       "       InvoiceNo InvoiceDate  CustomerID StockCode Description  Quantity  \\\n",
       "541904    581587  2011-12-01     12680.0    SC5440   Furniture        25   \n",
       "541905    581587  2011-12-01     12680.0    SC3576      Cloths        94   \n",
       "541906    581587  2011-12-01     12680.0    SC5283   Furniture        14   \n",
       "541907    581587  2011-12-01     12680.0    SC1099   Cosmetics        45   \n",
       "541908    581587  2011-12-01     12680.0    SC9276        Toys         6   \n",
       "\n",
       "        UnitPrice     Country  \n",
       "541904      36.53  Mozambique  \n",
       "541905      90.65     Tunisia  \n",
       "541906      40.07     Somalia  \n",
       "541907      79.83     Senegal  \n",
       "541908      46.62    Ethiopia  "
      ]
     },
     "execution_count": 169,
     "metadata": {},
     "output_type": "execute_result"
    }
   ],
   "source": [
    "data[\"InvoiceDate\"]  = data[\"InvoiceDate\"].apply(get_month)\n",
    "data.tail()"
   ]
  },
  {
   "cell_type": "code",
   "execution_count": 170,
   "id": "2de49f07-b0e1-4e30-b735-5fd02884fd4f",
   "metadata": {
    "id": "2de49f07-b0e1-4e30-b735-5fd02884fd4f"
   },
   "outputs": [],
   "source": [
    "def get_cohort_date(data):\n",
    "    \"\"\" this function takes in the dataframe\n",
    "        and returns the cohort date\n",
    "\n",
    "        variables:\n",
    "        data = dataframe\n",
    "        cohort date = the first date they made a purchase\n",
    "        \"\"\"\n",
    "\n",
    "    # assign the minimum date to all unique candidateID, i.e the first day they made a purchase\n",
    "    data[\"cohort date\"] = data.groupby(\"CustomerID\")[\"InvoiceDate\"].transform(\"min\")\n",
    "\n",
    "    return data[\"cohort date\"]"
   ]
  },
  {
   "cell_type": "code",
   "execution_count": 171,
   "id": "6125eff1-e622-4f05-9d67-76b2e4b4506d",
   "metadata": {
    "id": "6125eff1-e622-4f05-9d67-76b2e4b4506d"
   },
   "outputs": [],
   "source": [
    "#apply the function created to our dataframe and extract the 2 newly created column\n",
    "\n",
    "data[\"cohort date\"] = get_cohort_date(data)"
   ]
  },
  {
   "cell_type": "code",
   "execution_count": 172,
   "id": "e561dd20-27c4-4f9f-98cc-9a433d0d9c73",
   "metadata": {
    "id": "e561dd20-27c4-4f9f-98cc-9a433d0d9c73",
    "outputId": "20096569-8077-46af-93d3-cc4b79c3269f"
   },
   "outputs": [
    {
     "data": {
      "text/html": [
       "<div>\n",
       "<style scoped>\n",
       "    .dataframe tbody tr th:only-of-type {\n",
       "        vertical-align: middle;\n",
       "    }\n",
       "\n",
       "    .dataframe tbody tr th {\n",
       "        vertical-align: top;\n",
       "    }\n",
       "\n",
       "    .dataframe thead th {\n",
       "        text-align: right;\n",
       "    }\n",
       "</style>\n",
       "<table border=\"1\" class=\"dataframe\">\n",
       "  <thead>\n",
       "    <tr style=\"text-align: right;\">\n",
       "      <th></th>\n",
       "      <th>InvoiceNo</th>\n",
       "      <th>InvoiceDate</th>\n",
       "      <th>CustomerID</th>\n",
       "      <th>StockCode</th>\n",
       "      <th>Description</th>\n",
       "      <th>Quantity</th>\n",
       "      <th>UnitPrice</th>\n",
       "      <th>Country</th>\n",
       "      <th>cohort date</th>\n",
       "    </tr>\n",
       "  </thead>\n",
       "  <tbody>\n",
       "    <tr>\n",
       "      <th>0</th>\n",
       "      <td>536365</td>\n",
       "      <td>2010-12-01</td>\n",
       "      <td>17850.0</td>\n",
       "      <td>SC1734</td>\n",
       "      <td>Electronics</td>\n",
       "      <td>65</td>\n",
       "      <td>10.23</td>\n",
       "      <td>Egypt</td>\n",
       "      <td>2010-12-01</td>\n",
       "    </tr>\n",
       "    <tr>\n",
       "      <th>1</th>\n",
       "      <td>536365</td>\n",
       "      <td>2010-12-01</td>\n",
       "      <td>17850.0</td>\n",
       "      <td>SC2088</td>\n",
       "      <td>Furniture</td>\n",
       "      <td>95</td>\n",
       "      <td>19.61</td>\n",
       "      <td>Mali</td>\n",
       "      <td>2010-12-01</td>\n",
       "    </tr>\n",
       "    <tr>\n",
       "      <th>2</th>\n",
       "      <td>536365</td>\n",
       "      <td>2010-12-01</td>\n",
       "      <td>17850.0</td>\n",
       "      <td>SC3463</td>\n",
       "      <td>Books</td>\n",
       "      <td>78</td>\n",
       "      <td>61.49</td>\n",
       "      <td>Mali</td>\n",
       "      <td>2010-12-01</td>\n",
       "    </tr>\n",
       "    <tr>\n",
       "      <th>3</th>\n",
       "      <td>536365</td>\n",
       "      <td>2010-12-01</td>\n",
       "      <td>17850.0</td>\n",
       "      <td>SC6228</td>\n",
       "      <td>Toys</td>\n",
       "      <td>15</td>\n",
       "      <td>24.73</td>\n",
       "      <td>South Africa</td>\n",
       "      <td>2010-12-01</td>\n",
       "    </tr>\n",
       "    <tr>\n",
       "      <th>4</th>\n",
       "      <td>536365</td>\n",
       "      <td>2010-12-01</td>\n",
       "      <td>17850.0</td>\n",
       "      <td>SC2149</td>\n",
       "      <td>Toys</td>\n",
       "      <td>50</td>\n",
       "      <td>38.83</td>\n",
       "      <td>Rwanda</td>\n",
       "      <td>2010-12-01</td>\n",
       "    </tr>\n",
       "    <tr>\n",
       "      <th>...</th>\n",
       "      <td>...</td>\n",
       "      <td>...</td>\n",
       "      <td>...</td>\n",
       "      <td>...</td>\n",
       "      <td>...</td>\n",
       "      <td>...</td>\n",
       "      <td>...</td>\n",
       "      <td>...</td>\n",
       "      <td>...</td>\n",
       "    </tr>\n",
       "    <tr>\n",
       "      <th>541904</th>\n",
       "      <td>581587</td>\n",
       "      <td>2011-12-01</td>\n",
       "      <td>12680.0</td>\n",
       "      <td>SC5440</td>\n",
       "      <td>Furniture</td>\n",
       "      <td>25</td>\n",
       "      <td>36.53</td>\n",
       "      <td>Mozambique</td>\n",
       "      <td>2011-08-01</td>\n",
       "    </tr>\n",
       "    <tr>\n",
       "      <th>541905</th>\n",
       "      <td>581587</td>\n",
       "      <td>2011-12-01</td>\n",
       "      <td>12680.0</td>\n",
       "      <td>SC3576</td>\n",
       "      <td>Cloths</td>\n",
       "      <td>94</td>\n",
       "      <td>90.65</td>\n",
       "      <td>Tunisia</td>\n",
       "      <td>2011-08-01</td>\n",
       "    </tr>\n",
       "    <tr>\n",
       "      <th>541906</th>\n",
       "      <td>581587</td>\n",
       "      <td>2011-12-01</td>\n",
       "      <td>12680.0</td>\n",
       "      <td>SC5283</td>\n",
       "      <td>Furniture</td>\n",
       "      <td>14</td>\n",
       "      <td>40.07</td>\n",
       "      <td>Somalia</td>\n",
       "      <td>2011-08-01</td>\n",
       "    </tr>\n",
       "    <tr>\n",
       "      <th>541907</th>\n",
       "      <td>581587</td>\n",
       "      <td>2011-12-01</td>\n",
       "      <td>12680.0</td>\n",
       "      <td>SC1099</td>\n",
       "      <td>Cosmetics</td>\n",
       "      <td>45</td>\n",
       "      <td>79.83</td>\n",
       "      <td>Senegal</td>\n",
       "      <td>2011-08-01</td>\n",
       "    </tr>\n",
       "    <tr>\n",
       "      <th>541908</th>\n",
       "      <td>581587</td>\n",
       "      <td>2011-12-01</td>\n",
       "      <td>12680.0</td>\n",
       "      <td>SC9276</td>\n",
       "      <td>Toys</td>\n",
       "      <td>6</td>\n",
       "      <td>46.62</td>\n",
       "      <td>Ethiopia</td>\n",
       "      <td>2011-08-01</td>\n",
       "    </tr>\n",
       "  </tbody>\n",
       "</table>\n",
       "<p>406829 rows × 9 columns</p>\n",
       "</div>"
      ],
      "text/plain": [
       "       InvoiceNo InvoiceDate  CustomerID StockCode  Description  Quantity  \\\n",
       "0         536365  2010-12-01     17850.0    SC1734  Electronics        65   \n",
       "1         536365  2010-12-01     17850.0    SC2088    Furniture        95   \n",
       "2         536365  2010-12-01     17850.0    SC3463        Books        78   \n",
       "3         536365  2010-12-01     17850.0    SC6228         Toys        15   \n",
       "4         536365  2010-12-01     17850.0    SC2149         Toys        50   \n",
       "...          ...         ...         ...       ...          ...       ...   \n",
       "541904    581587  2011-12-01     12680.0    SC5440    Furniture        25   \n",
       "541905    581587  2011-12-01     12680.0    SC3576       Cloths        94   \n",
       "541906    581587  2011-12-01     12680.0    SC5283    Furniture        14   \n",
       "541907    581587  2011-12-01     12680.0    SC1099    Cosmetics        45   \n",
       "541908    581587  2011-12-01     12680.0    SC9276         Toys         6   \n",
       "\n",
       "        UnitPrice       Country cohort date  \n",
       "0           10.23         Egypt  2010-12-01  \n",
       "1           19.61          Mali  2010-12-01  \n",
       "2           61.49          Mali  2010-12-01  \n",
       "3           24.73  South Africa  2010-12-01  \n",
       "4           38.83        Rwanda  2010-12-01  \n",
       "...           ...           ...         ...  \n",
       "541904      36.53    Mozambique  2011-08-01  \n",
       "541905      90.65       Tunisia  2011-08-01  \n",
       "541906      40.07       Somalia  2011-08-01  \n",
       "541907      79.83       Senegal  2011-08-01  \n",
       "541908      46.62      Ethiopia  2011-08-01  \n",
       "\n",
       "[406829 rows x 9 columns]"
      ]
     },
     "execution_count": 172,
     "metadata": {},
     "output_type": "execute_result"
    }
   ],
   "source": [
    "data"
   ]
  },
  {
   "cell_type": "markdown",
   "id": "8e2db933-5ec3-4e34-bfe0-1cac2d1dee35",
   "metadata": {
    "id": "8e2db933-5ec3-4e34-bfe0-1cac2d1dee35",
    "tags": []
   },
   "source": [
    "## create cohort index"
   ]
  },
  {
   "cell_type": "markdown",
   "id": "5158c613-d5c2-4731-a4dd-f95723d40c5e",
   "metadata": {
    "id": "5158c613-d5c2-4731-a4dd-f95723d40c5e"
   },
   "source": [
    "A cohort index is a numerical representation that measures the time interval in months since a particular group (cohort) made their initial purchase. For example, an index of 4 indicates that this cohort made their first purchase four months ago.\n",
    "\n",
    "This will be calculated by subtracing the time the customer made first purchase (cohort date) from the recent purchase time (invoice date)"
   ]
  },
  {
   "cell_type": "code",
   "execution_count": 173,
   "id": "2ecd45d4-74de-4d4f-9def-e9f34cddcde1",
   "metadata": {
    "id": "2ecd45d4-74de-4d4f-9def-e9f34cddcde1"
   },
   "outputs": [],
   "source": [
    "#create a function that extracts the year and month from the first and last cohort date\n",
    "\n",
    "def get_year_and_month(data, col):\n",
    "    \"\"\"\n",
    "    This function takes in the dataframe and column,\n",
    "    and returns the month and year component for that column\n",
    "\n",
    "    Variables:\n",
    "    data = dataframe\n",
    "    col = column\n",
    "    month = month component\n",
    "    year = year component\"\"\"\n",
    "\n",
    "    month = data[col].dt.month\n",
    "    year = data[col].dt.year\n",
    "    return month, year"
   ]
  },
  {
   "cell_type": "code",
   "execution_count": 174,
   "id": "9d1248b9-8cbb-4f7e-a142-b1a65eead61b",
   "metadata": {
    "id": "9d1248b9-8cbb-4f7e-a142-b1a65eead61b"
   },
   "outputs": [],
   "source": [
    "# apply the fucntion on cohort first date column\n",
    "first_month, first_year = get_year_and_month(data,\"cohort date\")"
   ]
  },
  {
   "cell_type": "code",
   "execution_count": 175,
   "id": "e7275912-06f8-468e-8b46-2a697244a489",
   "metadata": {
    "id": "e7275912-06f8-468e-8b46-2a697244a489",
    "outputId": "c6f14c95-f8f5-4cfb-8d69-93cb656c8679"
   },
   "outputs": [
    {
     "data": {
      "text/plain": [
       "0         12\n",
       "1         12\n",
       "2         12\n",
       "3         12\n",
       "4         12\n",
       "          ..\n",
       "541904     8\n",
       "541905     8\n",
       "541906     8\n",
       "541907     8\n",
       "541908     8\n",
       "Name: cohort date, Length: 406829, dtype: int32"
      ]
     },
     "execution_count": 175,
     "metadata": {},
     "output_type": "execute_result"
    }
   ],
   "source": [
    "first_month"
   ]
  },
  {
   "cell_type": "code",
   "execution_count": 176,
   "id": "f0eb5f13-a3a4-414b-9920-a06618ff9525",
   "metadata": {
    "id": "f0eb5f13-a3a4-414b-9920-a06618ff9525"
   },
   "outputs": [],
   "source": [
    "# apply the fucntion on cohort latest date column\n",
    "latest_month, latest_year = get_year_and_month(data,\"InvoiceDate\")"
   ]
  },
  {
   "cell_type": "code",
   "execution_count": 177,
   "id": "36a79ce3-f28b-4e2d-bc43-ebcd4b4c03e1",
   "metadata": {
    "id": "36a79ce3-f28b-4e2d-bc43-ebcd4b4c03e1",
    "outputId": "be0dc91b-df70-41bb-99ca-1d7588853687"
   },
   "outputs": [
    {
     "data": {
      "text/plain": [
       "0         12\n",
       "1         12\n",
       "2         12\n",
       "3         12\n",
       "4         12\n",
       "          ..\n",
       "541904    12\n",
       "541905    12\n",
       "541906    12\n",
       "541907    12\n",
       "541908    12\n",
       "Name: InvoiceDate, Length: 406829, dtype: int32"
      ]
     },
     "execution_count": 177,
     "metadata": {},
     "output_type": "execute_result"
    }
   ],
   "source": [
    "latest_month"
   ]
  },
  {
   "cell_type": "markdown",
   "id": "3a41f549-f245-475e-9bba-83d41d72616a",
   "metadata": {
    "id": "3a41f549-f245-475e-9bba-83d41d72616a"
   },
   "source": [
    "**CREATE COHORT INDEX**"
   ]
  },
  {
   "cell_type": "markdown",
   "id": "9b9fbe69-fc2a-40be-b098-92700c8b8825",
   "metadata": {
    "id": "9b9fbe69-fc2a-40be-b098-92700c8b8825"
   },
   "source": []
  },
  {
   "cell_type": "code",
   "execution_count": 178,
   "id": "84455a7f-4f88-4c42-97c7-d769e4d8f124",
   "metadata": {
    "id": "84455a7f-4f88-4c42-97c7-d769e4d8f124"
   },
   "outputs": [],
   "source": [
    "# write a function to create cohort index\n",
    "def create_cohort_index(first_month, first_year, latest_month,latest_year):\n",
    "    \"\"\"\n",
    "    This code creates takes in the first and latest month and year\n",
    "    and returns the calculated period(in months) the customer has been active\n",
    "\n",
    "    variables:\n",
    "    first_month: first month the customer made purchase\n",
    "    first_year: first year the customer made purchase\n",
    "\n",
    "    latest_month: recent month the customer made purchase\n",
    "    latest_year: recent year the customer made purchase\n",
    "\n",
    "    index: The duration between first and latest purchase (in months)\"\"\"\n",
    "\n",
    "    year_diff = latest_year - first_year\n",
    "    month_diff = latest_month - first_month\n",
    "    index = year_diff*12 + month_diff +1 # +1 is added because of customers who have been active for just 1 month\n",
    "    return index"
   ]
  },
  {
   "cell_type": "code",
   "execution_count": 179,
   "id": "d3a6ba15-abe1-4c64-9c82-43a0fdd3eeb5",
   "metadata": {
    "id": "d3a6ba15-abe1-4c64-9c82-43a0fdd3eeb5"
   },
   "outputs": [],
   "source": [
    "data[\"cohort_index\"] = create_cohort_index(first_month, first_year, latest_month, latest_year)"
   ]
  },
  {
   "cell_type": "code",
   "execution_count": 180,
   "id": "cf59f701-4e14-4cab-b1d5-44961e23340a",
   "metadata": {},
   "outputs": [],
   "source": [
    "# Filter out canceled or returned orders\n",
    "data = data[data[\"Quantity\"] > 0]\n",
    "\n",
    "# Drop NA values\n",
    "num_na_values = data[\"CustomerID\"].isna().sum()\n",
    "data = data.dropna()\n",
    "\n",
    "# Calculate the sales column\n",
    "data[\"SalePrice\"] = data[\"Quantity\"] * data[\"UnitPrice\"]"
   ]
  },
  {
   "cell_type": "code",
   "execution_count": 181,
   "id": "f9885766-39a4-4a2a-933b-e6bcecafd40e",
   "metadata": {
    "id": "f9885766-39a4-4a2a-933b-e6bcecafd40e",
    "outputId": "3a56682a-0129-42b7-f65c-4f366ae6c3df"
   },
   "outputs": [
    {
     "data": {
      "text/html": [
       "<div>\n",
       "<style scoped>\n",
       "    .dataframe tbody tr th:only-of-type {\n",
       "        vertical-align: middle;\n",
       "    }\n",
       "\n",
       "    .dataframe tbody tr th {\n",
       "        vertical-align: top;\n",
       "    }\n",
       "\n",
       "    .dataframe thead th {\n",
       "        text-align: right;\n",
       "    }\n",
       "</style>\n",
       "<table border=\"1\" class=\"dataframe\">\n",
       "  <thead>\n",
       "    <tr style=\"text-align: right;\">\n",
       "      <th></th>\n",
       "      <th>InvoiceNo</th>\n",
       "      <th>InvoiceDate</th>\n",
       "      <th>CustomerID</th>\n",
       "      <th>StockCode</th>\n",
       "      <th>Description</th>\n",
       "      <th>Quantity</th>\n",
       "      <th>UnitPrice</th>\n",
       "      <th>Country</th>\n",
       "      <th>cohort date</th>\n",
       "      <th>cohort_index</th>\n",
       "      <th>SalePrice</th>\n",
       "    </tr>\n",
       "  </thead>\n",
       "  <tbody>\n",
       "    <tr>\n",
       "      <th>0</th>\n",
       "      <td>536365</td>\n",
       "      <td>2010-12-01</td>\n",
       "      <td>17850.0</td>\n",
       "      <td>SC1734</td>\n",
       "      <td>Electronics</td>\n",
       "      <td>65</td>\n",
       "      <td>10.23</td>\n",
       "      <td>Egypt</td>\n",
       "      <td>2010-12-01</td>\n",
       "      <td>1</td>\n",
       "      <td>664.95</td>\n",
       "    </tr>\n",
       "    <tr>\n",
       "      <th>1</th>\n",
       "      <td>536365</td>\n",
       "      <td>2010-12-01</td>\n",
       "      <td>17850.0</td>\n",
       "      <td>SC2088</td>\n",
       "      <td>Furniture</td>\n",
       "      <td>95</td>\n",
       "      <td>19.61</td>\n",
       "      <td>Mali</td>\n",
       "      <td>2010-12-01</td>\n",
       "      <td>1</td>\n",
       "      <td>1862.95</td>\n",
       "    </tr>\n",
       "    <tr>\n",
       "      <th>2</th>\n",
       "      <td>536365</td>\n",
       "      <td>2010-12-01</td>\n",
       "      <td>17850.0</td>\n",
       "      <td>SC3463</td>\n",
       "      <td>Books</td>\n",
       "      <td>78</td>\n",
       "      <td>61.49</td>\n",
       "      <td>Mali</td>\n",
       "      <td>2010-12-01</td>\n",
       "      <td>1</td>\n",
       "      <td>4796.22</td>\n",
       "    </tr>\n",
       "    <tr>\n",
       "      <th>3</th>\n",
       "      <td>536365</td>\n",
       "      <td>2010-12-01</td>\n",
       "      <td>17850.0</td>\n",
       "      <td>SC6228</td>\n",
       "      <td>Toys</td>\n",
       "      <td>15</td>\n",
       "      <td>24.73</td>\n",
       "      <td>South Africa</td>\n",
       "      <td>2010-12-01</td>\n",
       "      <td>1</td>\n",
       "      <td>370.95</td>\n",
       "    </tr>\n",
       "    <tr>\n",
       "      <th>4</th>\n",
       "      <td>536365</td>\n",
       "      <td>2010-12-01</td>\n",
       "      <td>17850.0</td>\n",
       "      <td>SC2149</td>\n",
       "      <td>Toys</td>\n",
       "      <td>50</td>\n",
       "      <td>38.83</td>\n",
       "      <td>Rwanda</td>\n",
       "      <td>2010-12-01</td>\n",
       "      <td>1</td>\n",
       "      <td>1941.50</td>\n",
       "    </tr>\n",
       "    <tr>\n",
       "      <th>...</th>\n",
       "      <td>...</td>\n",
       "      <td>...</td>\n",
       "      <td>...</td>\n",
       "      <td>...</td>\n",
       "      <td>...</td>\n",
       "      <td>...</td>\n",
       "      <td>...</td>\n",
       "      <td>...</td>\n",
       "      <td>...</td>\n",
       "      <td>...</td>\n",
       "      <td>...</td>\n",
       "    </tr>\n",
       "    <tr>\n",
       "      <th>541904</th>\n",
       "      <td>581587</td>\n",
       "      <td>2011-12-01</td>\n",
       "      <td>12680.0</td>\n",
       "      <td>SC5440</td>\n",
       "      <td>Furniture</td>\n",
       "      <td>25</td>\n",
       "      <td>36.53</td>\n",
       "      <td>Mozambique</td>\n",
       "      <td>2011-08-01</td>\n",
       "      <td>5</td>\n",
       "      <td>913.25</td>\n",
       "    </tr>\n",
       "    <tr>\n",
       "      <th>541905</th>\n",
       "      <td>581587</td>\n",
       "      <td>2011-12-01</td>\n",
       "      <td>12680.0</td>\n",
       "      <td>SC3576</td>\n",
       "      <td>Cloths</td>\n",
       "      <td>94</td>\n",
       "      <td>90.65</td>\n",
       "      <td>Tunisia</td>\n",
       "      <td>2011-08-01</td>\n",
       "      <td>5</td>\n",
       "      <td>8521.10</td>\n",
       "    </tr>\n",
       "    <tr>\n",
       "      <th>541906</th>\n",
       "      <td>581587</td>\n",
       "      <td>2011-12-01</td>\n",
       "      <td>12680.0</td>\n",
       "      <td>SC5283</td>\n",
       "      <td>Furniture</td>\n",
       "      <td>14</td>\n",
       "      <td>40.07</td>\n",
       "      <td>Somalia</td>\n",
       "      <td>2011-08-01</td>\n",
       "      <td>5</td>\n",
       "      <td>560.98</td>\n",
       "    </tr>\n",
       "    <tr>\n",
       "      <th>541907</th>\n",
       "      <td>581587</td>\n",
       "      <td>2011-12-01</td>\n",
       "      <td>12680.0</td>\n",
       "      <td>SC1099</td>\n",
       "      <td>Cosmetics</td>\n",
       "      <td>45</td>\n",
       "      <td>79.83</td>\n",
       "      <td>Senegal</td>\n",
       "      <td>2011-08-01</td>\n",
       "      <td>5</td>\n",
       "      <td>3592.35</td>\n",
       "    </tr>\n",
       "    <tr>\n",
       "      <th>541908</th>\n",
       "      <td>581587</td>\n",
       "      <td>2011-12-01</td>\n",
       "      <td>12680.0</td>\n",
       "      <td>SC9276</td>\n",
       "      <td>Toys</td>\n",
       "      <td>6</td>\n",
       "      <td>46.62</td>\n",
       "      <td>Ethiopia</td>\n",
       "      <td>2011-08-01</td>\n",
       "      <td>5</td>\n",
       "      <td>279.72</td>\n",
       "    </tr>\n",
       "  </tbody>\n",
       "</table>\n",
       "<p>406829 rows × 11 columns</p>\n",
       "</div>"
      ],
      "text/plain": [
       "       InvoiceNo InvoiceDate  CustomerID StockCode  Description  Quantity  \\\n",
       "0         536365  2010-12-01     17850.0    SC1734  Electronics        65   \n",
       "1         536365  2010-12-01     17850.0    SC2088    Furniture        95   \n",
       "2         536365  2010-12-01     17850.0    SC3463        Books        78   \n",
       "3         536365  2010-12-01     17850.0    SC6228         Toys        15   \n",
       "4         536365  2010-12-01     17850.0    SC2149         Toys        50   \n",
       "...          ...         ...         ...       ...          ...       ...   \n",
       "541904    581587  2011-12-01     12680.0    SC5440    Furniture        25   \n",
       "541905    581587  2011-12-01     12680.0    SC3576       Cloths        94   \n",
       "541906    581587  2011-12-01     12680.0    SC5283    Furniture        14   \n",
       "541907    581587  2011-12-01     12680.0    SC1099    Cosmetics        45   \n",
       "541908    581587  2011-12-01     12680.0    SC9276         Toys         6   \n",
       "\n",
       "        UnitPrice       Country cohort date  cohort_index  SalePrice  \n",
       "0           10.23         Egypt  2010-12-01             1     664.95  \n",
       "1           19.61          Mali  2010-12-01             1    1862.95  \n",
       "2           61.49          Mali  2010-12-01             1    4796.22  \n",
       "3           24.73  South Africa  2010-12-01             1     370.95  \n",
       "4           38.83        Rwanda  2010-12-01             1    1941.50  \n",
       "...           ...           ...         ...           ...        ...  \n",
       "541904      36.53    Mozambique  2011-08-01             5     913.25  \n",
       "541905      90.65       Tunisia  2011-08-01             5    8521.10  \n",
       "541906      40.07       Somalia  2011-08-01             5     560.98  \n",
       "541907      79.83       Senegal  2011-08-01             5    3592.35  \n",
       "541908      46.62      Ethiopia  2011-08-01             5     279.72  \n",
       "\n",
       "[406829 rows x 11 columns]"
      ]
     },
     "execution_count": 181,
     "metadata": {},
     "output_type": "execute_result"
    }
   ],
   "source": [
    "data"
   ]
  },
  {
   "cell_type": "markdown",
   "id": "e7aedfa0-cb34-4804-9c18-434572e0cfd9",
   "metadata": {
    "id": "e7aedfa0-cb34-4804-9c18-434572e0cfd9",
    "tags": []
   },
   "source": [
    "## Create a pivot table"
   ]
  },
  {
   "cell_type": "markdown",
   "id": "3a4389ca-e3ce-45ce-b4ad-abf7dfe767b1",
   "metadata": {
    "id": "3a4389ca-e3ce-45ce-b4ad-abf7dfe767b1"
   },
   "source": [
    "To create a pivot table, first we need to know how many customers made a purchase each month after their first purchase\n",
    "\n",
    "for example: How many customers from the September cohort made a purchase four months after their initial purchase in September?"
   ]
  },
  {
   "cell_type": "markdown",
   "id": "59a2733f-6824-4e55-b83c-5769de98f340",
   "metadata": {
    "id": "59a2733f-6824-4e55-b83c-5769de98f340",
    "tags": []
   },
   "source": [
    "### Cohort table"
   ]
  },
  {
   "cell_type": "code",
   "execution_count": 182,
   "id": "aa9bea37-4e26-4592-b2fe-9ee07a2ccddb",
   "metadata": {
    "id": "aa9bea37-4e26-4592-b2fe-9ee07a2ccddb"
   },
   "outputs": [],
   "source": [
    "cohort_info = data.groupby([\"cohort date\",\"cohort_index\"])[\"CustomerID\"].nunique().reset_index()"
   ]
  },
  {
   "cell_type": "code",
   "execution_count": 183,
   "id": "ea827834-ff1a-4d23-84f9-e232f30ebd29",
   "metadata": {
    "id": "ea827834-ff1a-4d23-84f9-e232f30ebd29"
   },
   "outputs": [],
   "source": [
    "cohort_info.rename(columns = {\"CustomerID\": \"Number of customers\"}, inplace = True)"
   ]
  },
  {
   "cell_type": "code",
   "execution_count": 184,
   "id": "be330559-6738-4f29-b60f-7e2ad2b85bb1",
   "metadata": {
    "id": "be330559-6738-4f29-b60f-7e2ad2b85bb1",
    "outputId": "86f3f739-28f6-4ee8-d0a2-9b0008ce5b99"
   },
   "outputs": [
    {
     "data": {
      "text/html": [
       "<div>\n",
       "<style scoped>\n",
       "    .dataframe tbody tr th:only-of-type {\n",
       "        vertical-align: middle;\n",
       "    }\n",
       "\n",
       "    .dataframe tbody tr th {\n",
       "        vertical-align: top;\n",
       "    }\n",
       "\n",
       "    .dataframe thead th {\n",
       "        text-align: right;\n",
       "    }\n",
       "</style>\n",
       "<table border=\"1\" class=\"dataframe\">\n",
       "  <thead>\n",
       "    <tr style=\"text-align: right;\">\n",
       "      <th></th>\n",
       "      <th>cohort date</th>\n",
       "      <th>cohort_index</th>\n",
       "      <th>Number of customers</th>\n",
       "    </tr>\n",
       "  </thead>\n",
       "  <tbody>\n",
       "    <tr>\n",
       "      <th>0</th>\n",
       "      <td>2010-12-01</td>\n",
       "      <td>1</td>\n",
       "      <td>948</td>\n",
       "    </tr>\n",
       "    <tr>\n",
       "      <th>1</th>\n",
       "      <td>2010-12-01</td>\n",
       "      <td>2</td>\n",
       "      <td>362</td>\n",
       "    </tr>\n",
       "    <tr>\n",
       "      <th>2</th>\n",
       "      <td>2010-12-01</td>\n",
       "      <td>3</td>\n",
       "      <td>317</td>\n",
       "    </tr>\n",
       "    <tr>\n",
       "      <th>3</th>\n",
       "      <td>2010-12-01</td>\n",
       "      <td>4</td>\n",
       "      <td>367</td>\n",
       "    </tr>\n",
       "    <tr>\n",
       "      <th>4</th>\n",
       "      <td>2010-12-01</td>\n",
       "      <td>5</td>\n",
       "      <td>341</td>\n",
       "    </tr>\n",
       "    <tr>\n",
       "      <th>...</th>\n",
       "      <td>...</td>\n",
       "      <td>...</td>\n",
       "      <td>...</td>\n",
       "    </tr>\n",
       "    <tr>\n",
       "      <th>86</th>\n",
       "      <td>2011-10-01</td>\n",
       "      <td>2</td>\n",
       "      <td>93</td>\n",
       "    </tr>\n",
       "    <tr>\n",
       "      <th>87</th>\n",
       "      <td>2011-10-01</td>\n",
       "      <td>3</td>\n",
       "      <td>46</td>\n",
       "    </tr>\n",
       "    <tr>\n",
       "      <th>88</th>\n",
       "      <td>2011-11-01</td>\n",
       "      <td>1</td>\n",
       "      <td>321</td>\n",
       "    </tr>\n",
       "    <tr>\n",
       "      <th>89</th>\n",
       "      <td>2011-11-01</td>\n",
       "      <td>2</td>\n",
       "      <td>43</td>\n",
       "    </tr>\n",
       "    <tr>\n",
       "      <th>90</th>\n",
       "      <td>2011-12-01</td>\n",
       "      <td>1</td>\n",
       "      <td>41</td>\n",
       "    </tr>\n",
       "  </tbody>\n",
       "</table>\n",
       "<p>91 rows × 3 columns</p>\n",
       "</div>"
      ],
      "text/plain": [
       "   cohort date  cohort_index  Number of customers\n",
       "0   2010-12-01             1                  948\n",
       "1   2010-12-01             2                  362\n",
       "2   2010-12-01             3                  317\n",
       "3   2010-12-01             4                  367\n",
       "4   2010-12-01             5                  341\n",
       "..         ...           ...                  ...\n",
       "86  2011-10-01             2                   93\n",
       "87  2011-10-01             3                   46\n",
       "88  2011-11-01             1                  321\n",
       "89  2011-11-01             2                   43\n",
       "90  2011-12-01             1                   41\n",
       "\n",
       "[91 rows x 3 columns]"
      ]
     },
     "execution_count": 184,
     "metadata": {},
     "output_type": "execute_result"
    }
   ],
   "source": [
    "cohort_info"
   ]
  },
  {
   "cell_type": "markdown",
   "id": "060606b3-42c5-4fd8-b398-3a2f541cfcde",
   "metadata": {
    "id": "060606b3-42c5-4fd8-b398-3a2f541cfcde",
    "tags": []
   },
   "source": [
    "### Pivot table"
   ]
  },
  {
   "cell_type": "code",
   "execution_count": 185,
   "id": "9e634a25-d98b-4049-9e91-a1696d8d81d9",
   "metadata": {
    "id": "9e634a25-d98b-4049-9e91-a1696d8d81d9",
    "outputId": "61e98a82-37b9-4870-e3a5-523c399bf0b8"
   },
   "outputs": [
    {
     "data": {
      "text/html": [
       "<div>\n",
       "<style scoped>\n",
       "    .dataframe tbody tr th:only-of-type {\n",
       "        vertical-align: middle;\n",
       "    }\n",
       "\n",
       "    .dataframe tbody tr th {\n",
       "        vertical-align: top;\n",
       "    }\n",
       "\n",
       "    .dataframe thead th {\n",
       "        text-align: right;\n",
       "    }\n",
       "</style>\n",
       "<table border=\"1\" class=\"dataframe\">\n",
       "  <thead>\n",
       "    <tr style=\"text-align: right;\">\n",
       "      <th>cohort_index</th>\n",
       "      <th>1</th>\n",
       "      <th>2</th>\n",
       "      <th>3</th>\n",
       "      <th>4</th>\n",
       "      <th>5</th>\n",
       "      <th>6</th>\n",
       "      <th>7</th>\n",
       "      <th>8</th>\n",
       "      <th>9</th>\n",
       "      <th>10</th>\n",
       "      <th>11</th>\n",
       "      <th>12</th>\n",
       "      <th>13</th>\n",
       "    </tr>\n",
       "    <tr>\n",
       "      <th>cohort date</th>\n",
       "      <th></th>\n",
       "      <th></th>\n",
       "      <th></th>\n",
       "      <th></th>\n",
       "      <th></th>\n",
       "      <th></th>\n",
       "      <th></th>\n",
       "      <th></th>\n",
       "      <th></th>\n",
       "      <th></th>\n",
       "      <th></th>\n",
       "      <th></th>\n",
       "      <th></th>\n",
       "    </tr>\n",
       "  </thead>\n",
       "  <tbody>\n",
       "    <tr>\n",
       "      <th>December 2010</th>\n",
       "      <td>948.0</td>\n",
       "      <td>362.0</td>\n",
       "      <td>317.0</td>\n",
       "      <td>367.0</td>\n",
       "      <td>341.0</td>\n",
       "      <td>376.0</td>\n",
       "      <td>360.0</td>\n",
       "      <td>336.0</td>\n",
       "      <td>336.0</td>\n",
       "      <td>374.0</td>\n",
       "      <td>354.0</td>\n",
       "      <td>474.0</td>\n",
       "      <td>260.0</td>\n",
       "    </tr>\n",
       "    <tr>\n",
       "      <th>January 2011</th>\n",
       "      <td>421.0</td>\n",
       "      <td>101.0</td>\n",
       "      <td>119.0</td>\n",
       "      <td>102.0</td>\n",
       "      <td>138.0</td>\n",
       "      <td>126.0</td>\n",
       "      <td>110.0</td>\n",
       "      <td>108.0</td>\n",
       "      <td>131.0</td>\n",
       "      <td>146.0</td>\n",
       "      <td>155.0</td>\n",
       "      <td>63.0</td>\n",
       "      <td>NaN</td>\n",
       "    </tr>\n",
       "    <tr>\n",
       "      <th>February 2011</th>\n",
       "      <td>380.0</td>\n",
       "      <td>94.0</td>\n",
       "      <td>73.0</td>\n",
       "      <td>106.0</td>\n",
       "      <td>102.0</td>\n",
       "      <td>94.0</td>\n",
       "      <td>97.0</td>\n",
       "      <td>107.0</td>\n",
       "      <td>98.0</td>\n",
       "      <td>119.0</td>\n",
       "      <td>35.0</td>\n",
       "      <td>NaN</td>\n",
       "      <td>NaN</td>\n",
       "    </tr>\n",
       "    <tr>\n",
       "      <th>March 2011</th>\n",
       "      <td>440.0</td>\n",
       "      <td>84.0</td>\n",
       "      <td>112.0</td>\n",
       "      <td>96.0</td>\n",
       "      <td>102.0</td>\n",
       "      <td>78.0</td>\n",
       "      <td>116.0</td>\n",
       "      <td>105.0</td>\n",
       "      <td>127.0</td>\n",
       "      <td>39.0</td>\n",
       "      <td>NaN</td>\n",
       "      <td>NaN</td>\n",
       "      <td>NaN</td>\n",
       "    </tr>\n",
       "    <tr>\n",
       "      <th>April 2011</th>\n",
       "      <td>299.0</td>\n",
       "      <td>68.0</td>\n",
       "      <td>66.0</td>\n",
       "      <td>63.0</td>\n",
       "      <td>62.0</td>\n",
       "      <td>71.0</td>\n",
       "      <td>69.0</td>\n",
       "      <td>78.0</td>\n",
       "      <td>25.0</td>\n",
       "      <td>NaN</td>\n",
       "      <td>NaN</td>\n",
       "      <td>NaN</td>\n",
       "      <td>NaN</td>\n",
       "    </tr>\n",
       "    <tr>\n",
       "      <th>May 2011</th>\n",
       "      <td>279.0</td>\n",
       "      <td>66.0</td>\n",
       "      <td>48.0</td>\n",
       "      <td>48.0</td>\n",
       "      <td>60.0</td>\n",
       "      <td>68.0</td>\n",
       "      <td>74.0</td>\n",
       "      <td>29.0</td>\n",
       "      <td>NaN</td>\n",
       "      <td>NaN</td>\n",
       "      <td>NaN</td>\n",
       "      <td>NaN</td>\n",
       "      <td>NaN</td>\n",
       "    </tr>\n",
       "    <tr>\n",
       "      <th>June 2011</th>\n",
       "      <td>235.0</td>\n",
       "      <td>49.0</td>\n",
       "      <td>44.0</td>\n",
       "      <td>64.0</td>\n",
       "      <td>58.0</td>\n",
       "      <td>79.0</td>\n",
       "      <td>24.0</td>\n",
       "      <td>NaN</td>\n",
       "      <td>NaN</td>\n",
       "      <td>NaN</td>\n",
       "      <td>NaN</td>\n",
       "      <td>NaN</td>\n",
       "      <td>NaN</td>\n",
       "    </tr>\n",
       "    <tr>\n",
       "      <th>July 2011</th>\n",
       "      <td>191.0</td>\n",
       "      <td>40.0</td>\n",
       "      <td>39.0</td>\n",
       "      <td>44.0</td>\n",
       "      <td>52.0</td>\n",
       "      <td>22.0</td>\n",
       "      <td>NaN</td>\n",
       "      <td>NaN</td>\n",
       "      <td>NaN</td>\n",
       "      <td>NaN</td>\n",
       "      <td>NaN</td>\n",
       "      <td>NaN</td>\n",
       "      <td>NaN</td>\n",
       "    </tr>\n",
       "    <tr>\n",
       "      <th>August 2011</th>\n",
       "      <td>167.0</td>\n",
       "      <td>42.0</td>\n",
       "      <td>42.0</td>\n",
       "      <td>42.0</td>\n",
       "      <td>23.0</td>\n",
       "      <td>NaN</td>\n",
       "      <td>NaN</td>\n",
       "      <td>NaN</td>\n",
       "      <td>NaN</td>\n",
       "      <td>NaN</td>\n",
       "      <td>NaN</td>\n",
       "      <td>NaN</td>\n",
       "      <td>NaN</td>\n",
       "    </tr>\n",
       "    <tr>\n",
       "      <th>September 2011</th>\n",
       "      <td>298.0</td>\n",
       "      <td>89.0</td>\n",
       "      <td>97.0</td>\n",
       "      <td>36.0</td>\n",
       "      <td>NaN</td>\n",
       "      <td>NaN</td>\n",
       "      <td>NaN</td>\n",
       "      <td>NaN</td>\n",
       "      <td>NaN</td>\n",
       "      <td>NaN</td>\n",
       "      <td>NaN</td>\n",
       "      <td>NaN</td>\n",
       "      <td>NaN</td>\n",
       "    </tr>\n",
       "    <tr>\n",
       "      <th>October 2011</th>\n",
       "      <td>352.0</td>\n",
       "      <td>93.0</td>\n",
       "      <td>46.0</td>\n",
       "      <td>NaN</td>\n",
       "      <td>NaN</td>\n",
       "      <td>NaN</td>\n",
       "      <td>NaN</td>\n",
       "      <td>NaN</td>\n",
       "      <td>NaN</td>\n",
       "      <td>NaN</td>\n",
       "      <td>NaN</td>\n",
       "      <td>NaN</td>\n",
       "      <td>NaN</td>\n",
       "    </tr>\n",
       "    <tr>\n",
       "      <th>November 2011</th>\n",
       "      <td>321.0</td>\n",
       "      <td>43.0</td>\n",
       "      <td>NaN</td>\n",
       "      <td>NaN</td>\n",
       "      <td>NaN</td>\n",
       "      <td>NaN</td>\n",
       "      <td>NaN</td>\n",
       "      <td>NaN</td>\n",
       "      <td>NaN</td>\n",
       "      <td>NaN</td>\n",
       "      <td>NaN</td>\n",
       "      <td>NaN</td>\n",
       "      <td>NaN</td>\n",
       "    </tr>\n",
       "    <tr>\n",
       "      <th>December 2011</th>\n",
       "      <td>41.0</td>\n",
       "      <td>NaN</td>\n",
       "      <td>NaN</td>\n",
       "      <td>NaN</td>\n",
       "      <td>NaN</td>\n",
       "      <td>NaN</td>\n",
       "      <td>NaN</td>\n",
       "      <td>NaN</td>\n",
       "      <td>NaN</td>\n",
       "      <td>NaN</td>\n",
       "      <td>NaN</td>\n",
       "      <td>NaN</td>\n",
       "      <td>NaN</td>\n",
       "    </tr>\n",
       "  </tbody>\n",
       "</table>\n",
       "</div>"
      ],
      "text/plain": [
       "cohort_index       1      2      3      4      5      6      7      8      9   \\\n",
       "cohort date                                                                     \n",
       "December 2010   948.0  362.0  317.0  367.0  341.0  376.0  360.0  336.0  336.0   \n",
       "January 2011    421.0  101.0  119.0  102.0  138.0  126.0  110.0  108.0  131.0   \n",
       "February 2011   380.0   94.0   73.0  106.0  102.0   94.0   97.0  107.0   98.0   \n",
       "March 2011      440.0   84.0  112.0   96.0  102.0   78.0  116.0  105.0  127.0   \n",
       "April 2011      299.0   68.0   66.0   63.0   62.0   71.0   69.0   78.0   25.0   \n",
       "May 2011        279.0   66.0   48.0   48.0   60.0   68.0   74.0   29.0    NaN   \n",
       "June 2011       235.0   49.0   44.0   64.0   58.0   79.0   24.0    NaN    NaN   \n",
       "July 2011       191.0   40.0   39.0   44.0   52.0   22.0    NaN    NaN    NaN   \n",
       "August 2011     167.0   42.0   42.0   42.0   23.0    NaN    NaN    NaN    NaN   \n",
       "September 2011  298.0   89.0   97.0   36.0    NaN    NaN    NaN    NaN    NaN   \n",
       "October 2011    352.0   93.0   46.0    NaN    NaN    NaN    NaN    NaN    NaN   \n",
       "November 2011   321.0   43.0    NaN    NaN    NaN    NaN    NaN    NaN    NaN   \n",
       "December 2011    41.0    NaN    NaN    NaN    NaN    NaN    NaN    NaN    NaN   \n",
       "\n",
       "cohort_index       10     11     12     13  \n",
       "cohort date                                 \n",
       "December 2010   374.0  354.0  474.0  260.0  \n",
       "January 2011    146.0  155.0   63.0    NaN  \n",
       "February 2011   119.0   35.0    NaN    NaN  \n",
       "March 2011       39.0    NaN    NaN    NaN  \n",
       "April 2011        NaN    NaN    NaN    NaN  \n",
       "May 2011          NaN    NaN    NaN    NaN  \n",
       "June 2011         NaN    NaN    NaN    NaN  \n",
       "July 2011         NaN    NaN    NaN    NaN  \n",
       "August 2011       NaN    NaN    NaN    NaN  \n",
       "September 2011    NaN    NaN    NaN    NaN  \n",
       "October 2011      NaN    NaN    NaN    NaN  \n",
       "November 2011     NaN    NaN    NaN    NaN  \n",
       "December 2011     NaN    NaN    NaN    NaN  "
      ]
     },
     "execution_count": 185,
     "metadata": {},
     "output_type": "execute_result"
    }
   ],
   "source": [
    "# create a pivot table\n",
    "\n",
    "cohort_table = cohort_info.pivot(index = \"cohort date\", columns = [\"cohort_index\"], values = \"Number of customers\")\n",
    "\n",
    "#change index to understandable format\n",
    "cohort_table.index = cohort_table.index.strftime('%B %Y')\n",
    "cohort_table"
   ]
  },
  {
   "cell_type": "code",
   "execution_count": 186,
   "id": "a80d137d-ca25-4ced-99b2-a3f6bd5ac7b3",
   "metadata": {
    "id": "a80d137d-ca25-4ced-99b2-a3f6bd5ac7b3",
    "outputId": "f9ca9ca5-e739-41f8-db3f-f5fd77a81056"
   },
   "outputs": [
    {
     "data": {
      "text/plain": [
       "<Axes: xlabel='cohort_index', ylabel='cohort date'>"
      ]
     },
     "execution_count": 186,
     "metadata": {},
     "output_type": "execute_result"
    },
    {
     "data": {
      "image/png": "[encoded data removed]",
      "text/plain": [
       "<Figure size 2100x1000 with 2 Axes>"
      ]
     },
     "metadata": {},
     "output_type": "display_data"
    }
   ],
   "source": [
    "#visualize our results in heatmap\n",
    "\n",
    "plt.figure(figsize = (21,10))\n",
    "sns.heatmap(cohort_table, annot = True, cmap = 'Dark2_r')"
   ]
  },
  {
   "cell_type": "markdown",
   "id": "ff36048e-b673-4355-ad03-471279e67ecf",
   "metadata": {
    "id": "ff36048e-b673-4355-ad03-471279e67ecf"
   },
   "source": [
    "**Observe retention rate**\n",
    "\n",
    "To effeciently observe the customers rentention rate, lets plot the chart in percentage."
   ]
  },
  {
   "cell_type": "code",
   "execution_count": 187,
   "id": "5495c377-3505-4cfc-a373-f35c769fd45d",
   "metadata": {
    "id": "5495c377-3505-4cfc-a373-f35c769fd45d",
    "outputId": "d6b0b247-1cfc-4fa3-aa4a-b3a1eb91d295"
   },
   "outputs": [
    {
     "data": {
      "text/html": [
       "<div>\n",
       "<style scoped>\n",
       "    .dataframe tbody tr th:only-of-type {\n",
       "        vertical-align: middle;\n",
       "    }\n",
       "\n",
       "    .dataframe tbody tr th {\n",
       "        vertical-align: top;\n",
       "    }\n",
       "\n",
       "    .dataframe thead th {\n",
       "        text-align: right;\n",
       "    }\n",
       "</style>\n",
       "<table border=\"1\" class=\"dataframe\">\n",
       "  <thead>\n",
       "    <tr style=\"text-align: right;\">\n",
       "      <th>cohort_index</th>\n",
       "      <th>1</th>\n",
       "      <th>2</th>\n",
       "      <th>3</th>\n",
       "      <th>4</th>\n",
       "      <th>5</th>\n",
       "      <th>6</th>\n",
       "      <th>7</th>\n",
       "      <th>8</th>\n",
       "      <th>9</th>\n",
       "      <th>10</th>\n",
       "      <th>11</th>\n",
       "      <th>12</th>\n",
       "      <th>13</th>\n",
       "    </tr>\n",
       "    <tr>\n",
       "      <th>cohort date</th>\n",
       "      <th></th>\n",
       "      <th></th>\n",
       "      <th></th>\n",
       "      <th></th>\n",
       "      <th></th>\n",
       "      <th></th>\n",
       "      <th></th>\n",
       "      <th></th>\n",
       "      <th></th>\n",
       "      <th></th>\n",
       "      <th></th>\n",
       "      <th></th>\n",
       "      <th></th>\n",
       "    </tr>\n",
       "  </thead>\n",
       "  <tbody>\n",
       "    <tr>\n",
       "      <th>December 2010</th>\n",
       "      <td>1.0</td>\n",
       "      <td>0.381857</td>\n",
       "      <td>0.334388</td>\n",
       "      <td>0.387131</td>\n",
       "      <td>0.359705</td>\n",
       "      <td>0.396624</td>\n",
       "      <td>0.379747</td>\n",
       "      <td>0.354430</td>\n",
       "      <td>0.354430</td>\n",
       "      <td>0.394515</td>\n",
       "      <td>0.373418</td>\n",
       "      <td>0.500000</td>\n",
       "      <td>0.274262</td>\n",
       "    </tr>\n",
       "    <tr>\n",
       "      <th>January 2011</th>\n",
       "      <td>1.0</td>\n",
       "      <td>0.239905</td>\n",
       "      <td>0.282660</td>\n",
       "      <td>0.242280</td>\n",
       "      <td>0.327791</td>\n",
       "      <td>0.299287</td>\n",
       "      <td>0.261283</td>\n",
       "      <td>0.256532</td>\n",
       "      <td>0.311164</td>\n",
       "      <td>0.346793</td>\n",
       "      <td>0.368171</td>\n",
       "      <td>0.149644</td>\n",
       "      <td>NaN</td>\n",
       "    </tr>\n",
       "    <tr>\n",
       "      <th>February 2011</th>\n",
       "      <td>1.0</td>\n",
       "      <td>0.247368</td>\n",
       "      <td>0.192105</td>\n",
       "      <td>0.278947</td>\n",
       "      <td>0.268421</td>\n",
       "      <td>0.247368</td>\n",
       "      <td>0.255263</td>\n",
       "      <td>0.281579</td>\n",
       "      <td>0.257895</td>\n",
       "      <td>0.313158</td>\n",
       "      <td>0.092105</td>\n",
       "      <td>NaN</td>\n",
       "      <td>NaN</td>\n",
       "    </tr>\n",
       "    <tr>\n",
       "      <th>March 2011</th>\n",
       "      <td>1.0</td>\n",
       "      <td>0.190909</td>\n",
       "      <td>0.254545</td>\n",
       "      <td>0.218182</td>\n",
       "      <td>0.231818</td>\n",
       "      <td>0.177273</td>\n",
       "      <td>0.263636</td>\n",
       "      <td>0.238636</td>\n",
       "      <td>0.288636</td>\n",
       "      <td>0.088636</td>\n",
       "      <td>NaN</td>\n",
       "      <td>NaN</td>\n",
       "      <td>NaN</td>\n",
       "    </tr>\n",
       "    <tr>\n",
       "      <th>April 2011</th>\n",
       "      <td>1.0</td>\n",
       "      <td>0.227425</td>\n",
       "      <td>0.220736</td>\n",
       "      <td>0.210702</td>\n",
       "      <td>0.207358</td>\n",
       "      <td>0.237458</td>\n",
       "      <td>0.230769</td>\n",
       "      <td>0.260870</td>\n",
       "      <td>0.083612</td>\n",
       "      <td>NaN</td>\n",
       "      <td>NaN</td>\n",
       "      <td>NaN</td>\n",
       "      <td>NaN</td>\n",
       "    </tr>\n",
       "    <tr>\n",
       "      <th>May 2011</th>\n",
       "      <td>1.0</td>\n",
       "      <td>0.236559</td>\n",
       "      <td>0.172043</td>\n",
       "      <td>0.172043</td>\n",
       "      <td>0.215054</td>\n",
       "      <td>0.243728</td>\n",
       "      <td>0.265233</td>\n",
       "      <td>0.103943</td>\n",
       "      <td>NaN</td>\n",
       "      <td>NaN</td>\n",
       "      <td>NaN</td>\n",
       "      <td>NaN</td>\n",
       "      <td>NaN</td>\n",
       "    </tr>\n",
       "    <tr>\n",
       "      <th>June 2011</th>\n",
       "      <td>1.0</td>\n",
       "      <td>0.208511</td>\n",
       "      <td>0.187234</td>\n",
       "      <td>0.272340</td>\n",
       "      <td>0.246809</td>\n",
       "      <td>0.336170</td>\n",
       "      <td>0.102128</td>\n",
       "      <td>NaN</td>\n",
       "      <td>NaN</td>\n",
       "      <td>NaN</td>\n",
       "      <td>NaN</td>\n",
       "      <td>NaN</td>\n",
       "      <td>NaN</td>\n",
       "    </tr>\n",
       "    <tr>\n",
       "      <th>July 2011</th>\n",
       "      <td>1.0</td>\n",
       "      <td>0.209424</td>\n",
       "      <td>0.204188</td>\n",
       "      <td>0.230366</td>\n",
       "      <td>0.272251</td>\n",
       "      <td>0.115183</td>\n",
       "      <td>NaN</td>\n",
       "      <td>NaN</td>\n",
       "      <td>NaN</td>\n",
       "      <td>NaN</td>\n",
       "      <td>NaN</td>\n",
       "      <td>NaN</td>\n",
       "      <td>NaN</td>\n",
       "    </tr>\n",
       "    <tr>\n",
       "      <th>August 2011</th>\n",
       "      <td>1.0</td>\n",
       "      <td>0.251497</td>\n",
       "      <td>0.251497</td>\n",
       "      <td>0.251497</td>\n",
       "      <td>0.137725</td>\n",
       "      <td>NaN</td>\n",
       "      <td>NaN</td>\n",
       "      <td>NaN</td>\n",
       "      <td>NaN</td>\n",
       "      <td>NaN</td>\n",
       "      <td>NaN</td>\n",
       "      <td>NaN</td>\n",
       "      <td>NaN</td>\n",
       "    </tr>\n",
       "    <tr>\n",
       "      <th>September 2011</th>\n",
       "      <td>1.0</td>\n",
       "      <td>0.298658</td>\n",
       "      <td>0.325503</td>\n",
       "      <td>0.120805</td>\n",
       "      <td>NaN</td>\n",
       "      <td>NaN</td>\n",
       "      <td>NaN</td>\n",
       "      <td>NaN</td>\n",
       "      <td>NaN</td>\n",
       "      <td>NaN</td>\n",
       "      <td>NaN</td>\n",
       "      <td>NaN</td>\n",
       "      <td>NaN</td>\n",
       "    </tr>\n",
       "    <tr>\n",
       "      <th>October 2011</th>\n",
       "      <td>1.0</td>\n",
       "      <td>0.264205</td>\n",
       "      <td>0.130682</td>\n",
       "      <td>NaN</td>\n",
       "      <td>NaN</td>\n",
       "      <td>NaN</td>\n",
       "      <td>NaN</td>\n",
       "      <td>NaN</td>\n",
       "      <td>NaN</td>\n",
       "      <td>NaN</td>\n",
       "      <td>NaN</td>\n",
       "      <td>NaN</td>\n",
       "      <td>NaN</td>\n",
       "    </tr>\n",
       "    <tr>\n",
       "      <th>November 2011</th>\n",
       "      <td>1.0</td>\n",
       "      <td>0.133956</td>\n",
       "      <td>NaN</td>\n",
       "      <td>NaN</td>\n",
       "      <td>NaN</td>\n",
       "      <td>NaN</td>\n",
       "      <td>NaN</td>\n",
       "      <td>NaN</td>\n",
       "      <td>NaN</td>\n",
       "      <td>NaN</td>\n",
       "      <td>NaN</td>\n",
       "      <td>NaN</td>\n",
       "      <td>NaN</td>\n",
       "    </tr>\n",
       "    <tr>\n",
       "      <th>December 2011</th>\n",
       "      <td>1.0</td>\n",
       "      <td>NaN</td>\n",
       "      <td>NaN</td>\n",
       "      <td>NaN</td>\n",
       "      <td>NaN</td>\n",
       "      <td>NaN</td>\n",
       "      <td>NaN</td>\n",
       "      <td>NaN</td>\n",
       "      <td>NaN</td>\n",
       "      <td>NaN</td>\n",
       "      <td>NaN</td>\n",
       "      <td>NaN</td>\n",
       "      <td>NaN</td>\n",
       "    </tr>\n",
       "  </tbody>\n",
       "</table>\n",
       "</div>"
      ],
      "text/plain": [
       "cohort_index     1         2         3         4         5         6   \\\n",
       "cohort date                                                             \n",
       "December 2010   1.0  0.381857  0.334388  0.387131  0.359705  0.396624   \n",
       "January 2011    1.0  0.239905  0.282660  0.242280  0.327791  0.299287   \n",
       "February 2011   1.0  0.247368  0.192105  0.278947  0.268421  0.247368   \n",
       "March 2011      1.0  0.190909  0.254545  0.218182  0.231818  0.177273   \n",
       "April 2011      1.0  0.227425  0.220736  0.210702  0.207358  0.237458   \n",
       "May 2011        1.0  0.236559  0.172043  0.172043  0.215054  0.243728   \n",
       "June 2011       1.0  0.208511  0.187234  0.272340  0.246809  0.336170   \n",
       "July 2011       1.0  0.209424  0.204188  0.230366  0.272251  0.115183   \n",
       "August 2011     1.0  0.251497  0.251497  0.251497  0.137725       NaN   \n",
       "September 2011  1.0  0.298658  0.325503  0.120805       NaN       NaN   \n",
       "October 2011    1.0  0.264205  0.130682       NaN       NaN       NaN   \n",
       "November 2011   1.0  0.133956       NaN       NaN       NaN       NaN   \n",
       "December 2011   1.0       NaN       NaN       NaN       NaN       NaN   \n",
       "\n",
       "cohort_index          7         8         9         10        11        12  \\\n",
       "cohort date                                                                  \n",
       "December 2010   0.379747  0.354430  0.354430  0.394515  0.373418  0.500000   \n",
       "January 2011    0.261283  0.256532  0.311164  0.346793  0.368171  0.149644   \n",
       "February 2011   0.255263  0.281579  0.257895  0.313158  0.092105       NaN   \n",
       "March 2011      0.263636  0.238636  0.288636  0.088636       NaN       NaN   \n",
       "April 2011      0.230769  0.260870  0.083612       NaN       NaN       NaN   \n",
       "May 2011        0.265233  0.103943       NaN       NaN       NaN       NaN   \n",
       "June 2011       0.102128       NaN       NaN       NaN       NaN       NaN   \n",
       "July 2011            NaN       NaN       NaN       NaN       NaN       NaN   \n",
       "August 2011          NaN       NaN       NaN       NaN       NaN       NaN   \n",
       "September 2011       NaN       NaN       NaN       NaN       NaN       NaN   \n",
       "October 2011         NaN       NaN       NaN       NaN       NaN       NaN   \n",
       "November 2011        NaN       NaN       NaN       NaN       NaN       NaN   \n",
       "December 2011        NaN       NaN       NaN       NaN       NaN       NaN   \n",
       "\n",
       "cohort_index          13  \n",
       "cohort date               \n",
       "December 2010   0.274262  \n",
       "January 2011         NaN  \n",
       "February 2011        NaN  \n",
       "March 2011           NaN  \n",
       "April 2011           NaN  \n",
       "May 2011             NaN  \n",
       "June 2011            NaN  \n",
       "July 2011            NaN  \n",
       "August 2011          NaN  \n",
       "September 2011       NaN  \n",
       "October 2011         NaN  \n",
       "November 2011        NaN  \n",
       "December 2011        NaN  "
      ]
     },
     "execution_count": 187,
     "metadata": {},
     "output_type": "execute_result"
    }
   ],
   "source": [
    "# showing retention rate in percentage\n",
    "new_cohort_table = cohort_table.divide(cohort_table.iloc[:,0], axis = 0)\n",
    "new_cohort_table"
   ]
  },
  {
   "cell_type": "markdown",
   "id": "d0835253-26bf-450c-8b63-5f74e0699fc1",
   "metadata": {
    "id": "d0835253-26bf-450c-8b63-5f74e0699fc1"
   },
   "source": [
    "**Draw heatmap**"
   ]
  },
  {
   "cell_type": "code",
   "execution_count": 188,
   "id": "98c5df42-bba5-4e3e-a7e0-ee5059386a1c",
   "metadata": {
    "id": "98c5df42-bba5-4e3e-a7e0-ee5059386a1c",
    "outputId": "917e8ef3-49b9-463b-c0f6-5382e7585957"
   },
   "outputs": [
    {
     "data": {
      "text/plain": [
       "<Axes: xlabel='cohort_index', ylabel='cohort date'>"
      ]
     },
     "execution_count": 188,
     "metadata": {},
     "output_type": "execute_result"
    },
    {
     "data": {
      "image/png": "[encoded data removed]",
      "text/plain": [
       "<Figure size 2100x1000 with 2 Axes>"
      ]
     },
     "metadata": {},
     "output_type": "display_data"
    }
   ],
   "source": [
    "#visualize our results in heatmap\n",
    "\n",
    "plt.figure(figsize = (21,10))\n",
    "sns.heatmap(new_cohort_table, annot = True, cmap = 'Dark2_r', fmt = '.0%')"
   ]
  },
  {
   "cell_type": "markdown",
   "id": "965835fd-a666-4695-8b76-0af7a46845d8",
   "metadata": {
    "id": "965835fd-a666-4695-8b76-0af7a46845d8"
   },
   "source": [
    "The heatmap above illustrates the customer retention rates for each cohort."
   ]
  },
  {
   "cell_type": "markdown",
   "id": "23ee993f-595e-4551-b954-bc1b01dc89d5",
   "metadata": {
    "id": "23ee993f-595e-4551-b954-bc1b01dc89d5"
   },
   "source": [
    "**OBSERVATIONS**\n",
    "\n",
    "A healthy retention rate for e-commerce platforms is typically considered to be in the range of **20% to 40%.** This means that **20% to 40%** of your customers continue to make purchases from your e-commerce platform after their initial purchase."
   ]
  },
  {
   "cell_type": "markdown",
   "id": "67caf610-e2b9-435d-9a15-74dd43d1a5a2",
   "metadata": {
    "id": "67caf610-e2b9-435d-9a15-74dd43d1a5a2"
   },
   "source": [
    "- **December 2010 Cohort Outperforms Others:** The fact that the **December 2010** cohort has a retention rate above **30%** is a positive sign. It suggests that this group of customers has remained engaged with your e-commerce platform over time. This could be due to various factors, such as the quality of your products/services, effective marketing, or a strong customer retention strategy.\n",
    "\n",
    "- **Decline in December 2011:** The observation that all cohorts have low retention rates in December 2011 suggests that there may have been specific challenges or issues affecting customer retention during that time. It's important to investigate what might have caused this decline and whether it's a one-time event or a recurring pattern\n",
    "\n",
    "- **Variability in Retention Rates:** The range of retention rates, from a **minimum of 8% to a maximum of 50%**, suggests that there is significant variability in how different cohorts of customers are behaving. While 8% is relatively low, 50% is relatively high, considering the standard e-commerce retention rates mentioned earlier."
   ]
  },
  {
   "cell_type": "markdown",
   "id": "04be9377-9e14-4b1e-9423-36c5fc5b48e1",
   "metadata": {
    "id": "04be9377-9e14-4b1e-9423-36c5fc5b48e1"
   },
   "source": [
    "In addtion to observing the behaviour of each cohort, we can create a table which shows the average quantity of product bought by each cohort and how it fluctuates."
   ]
  },
  {
   "cell_type": "markdown",
   "id": "48426079-5fa2-44c5-a842-57c2e6bfc161",
   "metadata": {
    "id": "48426079-5fa2-44c5-a842-57c2e6bfc161"
   },
   "source": [
    "**Average quantity bought**"
   ]
  },
  {
   "cell_type": "code",
   "execution_count": 189,
   "id": "0918c080-f096-473d-a0db-04a783527e15",
   "metadata": {
    "id": "0918c080-f096-473d-a0db-04a783527e15"
   },
   "outputs": [],
   "source": [
    "average_quantity = data.groupby([\"cohort date\", \"cohort_index\"])[\"Quantity\"].mean().reset_index()\n",
    "average_quantity[\"Quantity\"] = average_quantity[\"Quantity\"].round(1)"
   ]
  },
  {
   "cell_type": "code",
   "execution_count": 190,
   "id": "46698a6b-abcb-4056-ae11-89cb78bf13b3",
   "metadata": {
    "id": "46698a6b-abcb-4056-ae11-89cb78bf13b3"
   },
   "outputs": [],
   "source": [
    "average_quantity.rename(columns = {\"Quantity\": \"average quantity\"}, inplace = True)"
   ]
  },
  {
   "cell_type": "code",
   "execution_count": 191,
   "id": "460dad6e-67d3-43ed-af29-86d3709ee028",
   "metadata": {
    "id": "460dad6e-67d3-43ed-af29-86d3709ee028",
    "outputId": "3ffe6f6f-7abd-4539-fbaa-4388a0e1609a"
   },
   "outputs": [
    {
     "data": {
      "text/html": [
       "<div>\n",
       "<style scoped>\n",
       "    .dataframe tbody tr th:only-of-type {\n",
       "        vertical-align: middle;\n",
       "    }\n",
       "\n",
       "    .dataframe tbody tr th {\n",
       "        vertical-align: top;\n",
       "    }\n",
       "\n",
       "    .dataframe thead th {\n",
       "        text-align: right;\n",
       "    }\n",
       "</style>\n",
       "<table border=\"1\" class=\"dataframe\">\n",
       "  <thead>\n",
       "    <tr style=\"text-align: right;\">\n",
       "      <th></th>\n",
       "      <th>cohort date</th>\n",
       "      <th>cohort_index</th>\n",
       "      <th>average quantity</th>\n",
       "    </tr>\n",
       "  </thead>\n",
       "  <tbody>\n",
       "    <tr>\n",
       "      <th>0</th>\n",
       "      <td>2010-12-01</td>\n",
       "      <td>1</td>\n",
       "      <td>50.3</td>\n",
       "    </tr>\n",
       "    <tr>\n",
       "      <th>1</th>\n",
       "      <td>2010-12-01</td>\n",
       "      <td>2</td>\n",
       "      <td>50.3</td>\n",
       "    </tr>\n",
       "    <tr>\n",
       "      <th>2</th>\n",
       "      <td>2010-12-01</td>\n",
       "      <td>3</td>\n",
       "      <td>50.4</td>\n",
       "    </tr>\n",
       "    <tr>\n",
       "      <th>3</th>\n",
       "      <td>2010-12-01</td>\n",
       "      <td>4</td>\n",
       "      <td>50.6</td>\n",
       "    </tr>\n",
       "    <tr>\n",
       "      <th>4</th>\n",
       "      <td>2010-12-01</td>\n",
       "      <td>5</td>\n",
       "      <td>50.6</td>\n",
       "    </tr>\n",
       "    <tr>\n",
       "      <th>...</th>\n",
       "      <td>...</td>\n",
       "      <td>...</td>\n",
       "      <td>...</td>\n",
       "    </tr>\n",
       "    <tr>\n",
       "      <th>86</th>\n",
       "      <td>2011-10-01</td>\n",
       "      <td>2</td>\n",
       "      <td>49.9</td>\n",
       "    </tr>\n",
       "    <tr>\n",
       "      <th>87</th>\n",
       "      <td>2011-10-01</td>\n",
       "      <td>3</td>\n",
       "      <td>49.4</td>\n",
       "    </tr>\n",
       "    <tr>\n",
       "      <th>88</th>\n",
       "      <td>2011-11-01</td>\n",
       "      <td>1</td>\n",
       "      <td>51.1</td>\n",
       "    </tr>\n",
       "    <tr>\n",
       "      <th>89</th>\n",
       "      <td>2011-11-01</td>\n",
       "      <td>2</td>\n",
       "      <td>48.6</td>\n",
       "    </tr>\n",
       "    <tr>\n",
       "      <th>90</th>\n",
       "      <td>2011-12-01</td>\n",
       "      <td>1</td>\n",
       "      <td>51.2</td>\n",
       "    </tr>\n",
       "  </tbody>\n",
       "</table>\n",
       "<p>91 rows × 3 columns</p>\n",
       "</div>"
      ],
      "text/plain": [
       "   cohort date  cohort_index  average quantity\n",
       "0   2010-12-01             1              50.3\n",
       "1   2010-12-01             2              50.3\n",
       "2   2010-12-01             3              50.4\n",
       "3   2010-12-01             4              50.6\n",
       "4   2010-12-01             5              50.6\n",
       "..         ...           ...               ...\n",
       "86  2011-10-01             2              49.9\n",
       "87  2011-10-01             3              49.4\n",
       "88  2011-11-01             1              51.1\n",
       "89  2011-11-01             2              48.6\n",
       "90  2011-12-01             1              51.2\n",
       "\n",
       "[91 rows x 3 columns]"
      ]
     },
     "execution_count": 191,
     "metadata": {},
     "output_type": "execute_result"
    }
   ],
   "source": [
    "average_quantity"
   ]
  },
  {
   "cell_type": "code",
   "execution_count": 192,
   "id": "c5a1b7c4-8c7f-4ddb-9d3e-edb89f00ce49",
   "metadata": {
    "id": "c5a1b7c4-8c7f-4ddb-9d3e-edb89f00ce49",
    "outputId": "77c326d0-61c4-4393-c78c-c543f70831db"
   },
   "outputs": [
    {
     "data": {
      "text/html": [
       "<div>\n",
       "<style scoped>\n",
       "    .dataframe tbody tr th:only-of-type {\n",
       "        vertical-align: middle;\n",
       "    }\n",
       "\n",
       "    .dataframe tbody tr th {\n",
       "        vertical-align: top;\n",
       "    }\n",
       "\n",
       "    .dataframe thead th {\n",
       "        text-align: right;\n",
       "    }\n",
       "</style>\n",
       "<table border=\"1\" class=\"dataframe\">\n",
       "  <thead>\n",
       "    <tr style=\"text-align: right;\">\n",
       "      <th>cohort_index</th>\n",
       "      <th>1</th>\n",
       "      <th>2</th>\n",
       "      <th>3</th>\n",
       "      <th>4</th>\n",
       "      <th>5</th>\n",
       "      <th>6</th>\n",
       "      <th>7</th>\n",
       "      <th>8</th>\n",
       "      <th>9</th>\n",
       "      <th>10</th>\n",
       "      <th>11</th>\n",
       "      <th>12</th>\n",
       "      <th>13</th>\n",
       "    </tr>\n",
       "    <tr>\n",
       "      <th>cohort date</th>\n",
       "      <th></th>\n",
       "      <th></th>\n",
       "      <th></th>\n",
       "      <th></th>\n",
       "      <th></th>\n",
       "      <th></th>\n",
       "      <th></th>\n",
       "      <th></th>\n",
       "      <th></th>\n",
       "      <th></th>\n",
       "      <th></th>\n",
       "      <th></th>\n",
       "      <th></th>\n",
       "    </tr>\n",
       "  </thead>\n",
       "  <tbody>\n",
       "    <tr>\n",
       "      <th>December 2010</th>\n",
       "      <td>50.3</td>\n",
       "      <td>50.3</td>\n",
       "      <td>50.4</td>\n",
       "      <td>50.6</td>\n",
       "      <td>50.6</td>\n",
       "      <td>50.4</td>\n",
       "      <td>50.5</td>\n",
       "      <td>50.5</td>\n",
       "      <td>50.2</td>\n",
       "      <td>50.6</td>\n",
       "      <td>50.5</td>\n",
       "      <td>50.6</td>\n",
       "      <td>50.7</td>\n",
       "    </tr>\n",
       "    <tr>\n",
       "      <th>January 2011</th>\n",
       "      <td>50.7</td>\n",
       "      <td>50.6</td>\n",
       "      <td>50.8</td>\n",
       "      <td>50.6</td>\n",
       "      <td>50.9</td>\n",
       "      <td>50.4</td>\n",
       "      <td>50.3</td>\n",
       "      <td>50.4</td>\n",
       "      <td>50.5</td>\n",
       "      <td>49.9</td>\n",
       "      <td>50.6</td>\n",
       "      <td>50.5</td>\n",
       "      <td>NaN</td>\n",
       "    </tr>\n",
       "    <tr>\n",
       "      <th>February 2011</th>\n",
       "      <td>51.2</td>\n",
       "      <td>49.7</td>\n",
       "      <td>51.0</td>\n",
       "      <td>50.3</td>\n",
       "      <td>50.2</td>\n",
       "      <td>50.7</td>\n",
       "      <td>49.2</td>\n",
       "      <td>50.7</td>\n",
       "      <td>50.9</td>\n",
       "      <td>49.6</td>\n",
       "      <td>50.1</td>\n",
       "      <td>NaN</td>\n",
       "      <td>NaN</td>\n",
       "    </tr>\n",
       "    <tr>\n",
       "      <th>March 2011</th>\n",
       "      <td>50.5</td>\n",
       "      <td>50.2</td>\n",
       "      <td>50.2</td>\n",
       "      <td>50.2</td>\n",
       "      <td>50.1</td>\n",
       "      <td>50.6</td>\n",
       "      <td>50.0</td>\n",
       "      <td>51.1</td>\n",
       "      <td>50.1</td>\n",
       "      <td>50.4</td>\n",
       "      <td>NaN</td>\n",
       "      <td>NaN</td>\n",
       "      <td>NaN</td>\n",
       "    </tr>\n",
       "    <tr>\n",
       "      <th>April 2011</th>\n",
       "      <td>50.7</td>\n",
       "      <td>49.9</td>\n",
       "      <td>50.0</td>\n",
       "      <td>50.1</td>\n",
       "      <td>50.6</td>\n",
       "      <td>50.3</td>\n",
       "      <td>50.3</td>\n",
       "      <td>49.9</td>\n",
       "      <td>51.1</td>\n",
       "      <td>NaN</td>\n",
       "      <td>NaN</td>\n",
       "      <td>NaN</td>\n",
       "      <td>NaN</td>\n",
       "    </tr>\n",
       "    <tr>\n",
       "      <th>May 2011</th>\n",
       "      <td>50.7</td>\n",
       "      <td>49.4</td>\n",
       "      <td>50.2</td>\n",
       "      <td>49.7</td>\n",
       "      <td>51.2</td>\n",
       "      <td>50.5</td>\n",
       "      <td>49.9</td>\n",
       "      <td>51.4</td>\n",
       "      <td>NaN</td>\n",
       "      <td>NaN</td>\n",
       "      <td>NaN</td>\n",
       "      <td>NaN</td>\n",
       "      <td>NaN</td>\n",
       "    </tr>\n",
       "    <tr>\n",
       "      <th>June 2011</th>\n",
       "      <td>50.6</td>\n",
       "      <td>51.0</td>\n",
       "      <td>48.5</td>\n",
       "      <td>50.6</td>\n",
       "      <td>51.4</td>\n",
       "      <td>50.9</td>\n",
       "      <td>50.3</td>\n",
       "      <td>NaN</td>\n",
       "      <td>NaN</td>\n",
       "      <td>NaN</td>\n",
       "      <td>NaN</td>\n",
       "      <td>NaN</td>\n",
       "      <td>NaN</td>\n",
       "    </tr>\n",
       "    <tr>\n",
       "      <th>July 2011</th>\n",
       "      <td>50.7</td>\n",
       "      <td>49.5</td>\n",
       "      <td>50.8</td>\n",
       "      <td>50.1</td>\n",
       "      <td>49.8</td>\n",
       "      <td>50.7</td>\n",
       "      <td>NaN</td>\n",
       "      <td>NaN</td>\n",
       "      <td>NaN</td>\n",
       "      <td>NaN</td>\n",
       "      <td>NaN</td>\n",
       "      <td>NaN</td>\n",
       "      <td>NaN</td>\n",
       "    </tr>\n",
       "    <tr>\n",
       "      <th>August 2011</th>\n",
       "      <td>50.5</td>\n",
       "      <td>49.8</td>\n",
       "      <td>50.4</td>\n",
       "      <td>51.0</td>\n",
       "      <td>50.2</td>\n",
       "      <td>NaN</td>\n",
       "      <td>NaN</td>\n",
       "      <td>NaN</td>\n",
       "      <td>NaN</td>\n",
       "      <td>NaN</td>\n",
       "      <td>NaN</td>\n",
       "      <td>NaN</td>\n",
       "      <td>NaN</td>\n",
       "    </tr>\n",
       "    <tr>\n",
       "      <th>September 2011</th>\n",
       "      <td>50.4</td>\n",
       "      <td>50.2</td>\n",
       "      <td>49.8</td>\n",
       "      <td>51.1</td>\n",
       "      <td>NaN</td>\n",
       "      <td>NaN</td>\n",
       "      <td>NaN</td>\n",
       "      <td>NaN</td>\n",
       "      <td>NaN</td>\n",
       "      <td>NaN</td>\n",
       "      <td>NaN</td>\n",
       "      <td>NaN</td>\n",
       "      <td>NaN</td>\n",
       "    </tr>\n",
       "    <tr>\n",
       "      <th>October 2011</th>\n",
       "      <td>50.4</td>\n",
       "      <td>49.9</td>\n",
       "      <td>49.4</td>\n",
       "      <td>NaN</td>\n",
       "      <td>NaN</td>\n",
       "      <td>NaN</td>\n",
       "      <td>NaN</td>\n",
       "      <td>NaN</td>\n",
       "      <td>NaN</td>\n",
       "      <td>NaN</td>\n",
       "      <td>NaN</td>\n",
       "      <td>NaN</td>\n",
       "      <td>NaN</td>\n",
       "    </tr>\n",
       "    <tr>\n",
       "      <th>November 2011</th>\n",
       "      <td>51.1</td>\n",
       "      <td>48.6</td>\n",
       "      <td>NaN</td>\n",
       "      <td>NaN</td>\n",
       "      <td>NaN</td>\n",
       "      <td>NaN</td>\n",
       "      <td>NaN</td>\n",
       "      <td>NaN</td>\n",
       "      <td>NaN</td>\n",
       "      <td>NaN</td>\n",
       "      <td>NaN</td>\n",
       "      <td>NaN</td>\n",
       "      <td>NaN</td>\n",
       "    </tr>\n",
       "    <tr>\n",
       "      <th>December 2011</th>\n",
       "      <td>51.2</td>\n",
       "      <td>NaN</td>\n",
       "      <td>NaN</td>\n",
       "      <td>NaN</td>\n",
       "      <td>NaN</td>\n",
       "      <td>NaN</td>\n",
       "      <td>NaN</td>\n",
       "      <td>NaN</td>\n",
       "      <td>NaN</td>\n",
       "      <td>NaN</td>\n",
       "      <td>NaN</td>\n",
       "      <td>NaN</td>\n",
       "      <td>NaN</td>\n",
       "    </tr>\n",
       "  </tbody>\n",
       "</table>\n",
       "</div>"
      ],
      "text/plain": [
       "cohort_index      1     2     3     4     5     6     7     8     9     10  \\\n",
       "cohort date                                                                  \n",
       "December 2010   50.3  50.3  50.4  50.6  50.6  50.4  50.5  50.5  50.2  50.6   \n",
       "January 2011    50.7  50.6  50.8  50.6  50.9  50.4  50.3  50.4  50.5  49.9   \n",
       "February 2011   51.2  49.7  51.0  50.3  50.2  50.7  49.2  50.7  50.9  49.6   \n",
       "March 2011      50.5  50.2  50.2  50.2  50.1  50.6  50.0  51.1  50.1  50.4   \n",
       "April 2011      50.7  49.9  50.0  50.1  50.6  50.3  50.3  49.9  51.1   NaN   \n",
       "May 2011        50.7  49.4  50.2  49.7  51.2  50.5  49.9  51.4   NaN   NaN   \n",
       "June 2011       50.6  51.0  48.5  50.6  51.4  50.9  50.3   NaN   NaN   NaN   \n",
       "July 2011       50.7  49.5  50.8  50.1  49.8  50.7   NaN   NaN   NaN   NaN   \n",
       "August 2011     50.5  49.8  50.4  51.0  50.2   NaN   NaN   NaN   NaN   NaN   \n",
       "September 2011  50.4  50.2  49.8  51.1   NaN   NaN   NaN   NaN   NaN   NaN   \n",
       "October 2011    50.4  49.9  49.4   NaN   NaN   NaN   NaN   NaN   NaN   NaN   \n",
       "November 2011   51.1  48.6   NaN   NaN   NaN   NaN   NaN   NaN   NaN   NaN   \n",
       "December 2011   51.2   NaN   NaN   NaN   NaN   NaN   NaN   NaN   NaN   NaN   \n",
       "\n",
       "cohort_index      11    12    13  \n",
       "cohort date                       \n",
       "December 2010   50.5  50.6  50.7  \n",
       "January 2011    50.6  50.5   NaN  \n",
       "February 2011   50.1   NaN   NaN  \n",
       "March 2011       NaN   NaN   NaN  \n",
       "April 2011       NaN   NaN   NaN  \n",
       "May 2011         NaN   NaN   NaN  \n",
       "June 2011        NaN   NaN   NaN  \n",
       "July 2011        NaN   NaN   NaN  \n",
       "August 2011      NaN   NaN   NaN  \n",
       "September 2011   NaN   NaN   NaN  \n",
       "October 2011     NaN   NaN   NaN  \n",
       "November 2011    NaN   NaN   NaN  \n",
       "December 2011    NaN   NaN   NaN  "
      ]
     },
     "execution_count": 192,
     "metadata": {},
     "output_type": "execute_result"
    }
   ],
   "source": [
    "# create a pivot table\n",
    "\n",
    "quantity_table = average_quantity.pivot(index = \"cohort date\", columns = [\"cohort_index\"], values = \"average quantity\")\n",
    "\n",
    "#change index to understandable format\n",
    "quantity_table.index = quantity_table.index.strftime('%B %Y')\n",
    "quantity_table"
   ]
  },
  {
   "cell_type": "code",
   "execution_count": 193,
   "id": "c8ff7ece-7d64-45f0-aaf3-5e5312719889",
   "metadata": {
    "id": "c8ff7ece-7d64-45f0-aaf3-5e5312719889",
    "outputId": "c0df1b4e-f021-497c-a41d-d9aad4dea3c4"
   },
   "outputs": [
    {
     "data": {
      "text/plain": [
       "<Axes: xlabel='cohort_index', ylabel='cohort date'>"
      ]
     },
     "execution_count": 193,
     "metadata": {},
     "output_type": "execute_result"
    },
    {
     "data": {
      "image/png": "[encoded data removed]",
      "text/plain": [
       "<Figure size 2100x1000 with 2 Axes>"
      ]
     },
     "metadata": {},
     "output_type": "display_data"
    }
   ],
   "source": [
    "#visualize our results in heatmap\n",
    "\n",
    "plt.figure(figsize = (21,10))\n",
    "sns.heatmap(quantity_table, annot = True, cmap = 'Accent_r')"
   ]
  },
  {
   "cell_type": "markdown",
   "id": "db3c3477-accd-474d-8ca8-e8db9c841b04",
   "metadata": {
    "id": "db3c3477-accd-474d-8ca8-e8db9c841b04"
   },
   "source": [
    "**Observations**\n",
    "\n",
    "Although there is significant drop in customer retention after their first month as observed on the previous chart, the average quantity bought is not experiencing much fluctuations. Meaning there is possibiity that a few customers tends to puchase alot of product, therefore maintaining the average value"
   ]
  },
  {
   "cell_type": "code",
   "execution_count": 194,
   "id": "819bcc62-62ef-446f-b352-8251099ec94c",
   "metadata": {},
   "outputs": [
    {
     "data": {
      "text/html": [
       "<div>\n",
       "<style scoped>\n",
       "    .dataframe tbody tr th:only-of-type {\n",
       "        vertical-align: middle;\n",
       "    }\n",
       "\n",
       "    .dataframe tbody tr th {\n",
       "        vertical-align: top;\n",
       "    }\n",
       "\n",
       "    .dataframe thead th {\n",
       "        text-align: right;\n",
       "    }\n",
       "</style>\n",
       "<table border=\"1\" class=\"dataframe\">\n",
       "  <thead>\n",
       "    <tr style=\"text-align: right;\">\n",
       "      <th></th>\n",
       "      <th>InvoiceNo</th>\n",
       "      <th>InvoiceDate</th>\n",
       "      <th>CustomerID</th>\n",
       "      <th>StockCode</th>\n",
       "      <th>Description</th>\n",
       "      <th>Quantity</th>\n",
       "      <th>UnitPrice</th>\n",
       "      <th>Country</th>\n",
       "      <th>cohort date</th>\n",
       "      <th>cohort_index</th>\n",
       "      <th>SalePrice</th>\n",
       "    </tr>\n",
       "  </thead>\n",
       "  <tbody>\n",
       "    <tr>\n",
       "      <th>190916</th>\n",
       "      <td>553220</td>\n",
       "      <td>2011-05-01</td>\n",
       "      <td>13319.0</td>\n",
       "      <td>SC5600</td>\n",
       "      <td>Cosmetics</td>\n",
       "      <td>96</td>\n",
       "      <td>50.78</td>\n",
       "      <td>Senegal</td>\n",
       "      <td>2010-12-01</td>\n",
       "      <td>6</td>\n",
       "      <td>4874.88</td>\n",
       "    </tr>\n",
       "    <tr>\n",
       "      <th>207983</th>\n",
       "      <td>555073</td>\n",
       "      <td>2011-05-01</td>\n",
       "      <td>16470.0</td>\n",
       "      <td>SC9868</td>\n",
       "      <td>Cosmetics</td>\n",
       "      <td>92</td>\n",
       "      <td>65.57</td>\n",
       "      <td>Ethiopia</td>\n",
       "      <td>2010-12-01</td>\n",
       "      <td>6</td>\n",
       "      <td>6032.44</td>\n",
       "    </tr>\n",
       "    <tr>\n",
       "      <th>524392</th>\n",
       "      <td>580550</td>\n",
       "      <td>2011-12-01</td>\n",
       "      <td>13126.0</td>\n",
       "      <td>SC6861</td>\n",
       "      <td>Toys</td>\n",
       "      <td>94</td>\n",
       "      <td>82.07</td>\n",
       "      <td>Togo</td>\n",
       "      <td>2010-12-01</td>\n",
       "      <td>13</td>\n",
       "      <td>7714.58</td>\n",
       "    </tr>\n",
       "    <tr>\n",
       "      <th>328770</th>\n",
       "      <td>565805</td>\n",
       "      <td>2011-09-01</td>\n",
       "      <td>18229.0</td>\n",
       "      <td>SC3749</td>\n",
       "      <td>Electronics</td>\n",
       "      <td>39</td>\n",
       "      <td>44.97</td>\n",
       "      <td>Zimbabwe</td>\n",
       "      <td>2010-12-01</td>\n",
       "      <td>10</td>\n",
       "      <td>1753.83</td>\n",
       "    </tr>\n",
       "    <tr>\n",
       "      <th>508035</th>\n",
       "      <td>579196</td>\n",
       "      <td>2011-11-01</td>\n",
       "      <td>14096.0</td>\n",
       "      <td>SC6461</td>\n",
       "      <td>Sports Equipment</td>\n",
       "      <td>52</td>\n",
       "      <td>85.54</td>\n",
       "      <td>Tunisia</td>\n",
       "      <td>2011-08-01</td>\n",
       "      <td>4</td>\n",
       "      <td>4448.08</td>\n",
       "    </tr>\n",
       "    <tr>\n",
       "      <th>326012</th>\n",
       "      <td>565468</td>\n",
       "      <td>2011-09-01</td>\n",
       "      <td>14129.0</td>\n",
       "      <td>SC9325</td>\n",
       "      <td>Kitchenware</td>\n",
       "      <td>4</td>\n",
       "      <td>51.22</td>\n",
       "      <td>South Africa</td>\n",
       "      <td>2011-03-01</td>\n",
       "      <td>7</td>\n",
       "      <td>204.88</td>\n",
       "    </tr>\n",
       "    <tr>\n",
       "      <th>252206</th>\n",
       "      <td>559092</td>\n",
       "      <td>2011-07-01</td>\n",
       "      <td>16829.0</td>\n",
       "      <td>SC3116</td>\n",
       "      <td>Sports Equipment</td>\n",
       "      <td>72</td>\n",
       "      <td>56.65</td>\n",
       "      <td>Ghana</td>\n",
       "      <td>2011-07-01</td>\n",
       "      <td>1</td>\n",
       "      <td>4078.80</td>\n",
       "    </tr>\n",
       "    <tr>\n",
       "      <th>395139</th>\n",
       "      <td>571007</td>\n",
       "      <td>2011-10-01</td>\n",
       "      <td>13487.0</td>\n",
       "      <td>SC9469</td>\n",
       "      <td>Kitchenware</td>\n",
       "      <td>38</td>\n",
       "      <td>92.60</td>\n",
       "      <td>Cote d'Ivoire</td>\n",
       "      <td>2010-12-01</td>\n",
       "      <td>11</td>\n",
       "      <td>3518.80</td>\n",
       "    </tr>\n",
       "    <tr>\n",
       "      <th>517640</th>\n",
       "      <td>580071</td>\n",
       "      <td>2011-12-01</td>\n",
       "      <td>15500.0</td>\n",
       "      <td>SC6684</td>\n",
       "      <td>Electronics</td>\n",
       "      <td>80</td>\n",
       "      <td>44.57</td>\n",
       "      <td>Rwanda</td>\n",
       "      <td>2011-09-01</td>\n",
       "      <td>4</td>\n",
       "      <td>3565.60</td>\n",
       "    </tr>\n",
       "    <tr>\n",
       "      <th>196996</th>\n",
       "      <td>553879</td>\n",
       "      <td>2011-05-01</td>\n",
       "      <td>15791.0</td>\n",
       "      <td>SC2352</td>\n",
       "      <td>Sports Equipment</td>\n",
       "      <td>5</td>\n",
       "      <td>66.02</td>\n",
       "      <td>Burkina Faso</td>\n",
       "      <td>2011-05-01</td>\n",
       "      <td>1</td>\n",
       "      <td>330.10</td>\n",
       "    </tr>\n",
       "  </tbody>\n",
       "</table>\n",
       "</div>"
      ],
      "text/plain": [
       "       InvoiceNo InvoiceDate  CustomerID StockCode       Description  \\\n",
       "190916    553220  2011-05-01     13319.0    SC5600         Cosmetics   \n",
       "207983    555073  2011-05-01     16470.0    SC9868         Cosmetics   \n",
       "524392    580550  2011-12-01     13126.0    SC6861              Toys   \n",
       "328770    565805  2011-09-01     18229.0    SC3749       Electronics   \n",
       "508035    579196  2011-11-01     14096.0    SC6461  Sports Equipment   \n",
       "326012    565468  2011-09-01     14129.0    SC9325       Kitchenware   \n",
       "252206    559092  2011-07-01     16829.0    SC3116  Sports Equipment   \n",
       "395139    571007  2011-10-01     13487.0    SC9469       Kitchenware   \n",
       "517640    580071  2011-12-01     15500.0    SC6684       Electronics   \n",
       "196996    553879  2011-05-01     15791.0    SC2352  Sports Equipment   \n",
       "\n",
       "        Quantity  UnitPrice        Country cohort date  cohort_index  \\\n",
       "190916        96      50.78        Senegal  2010-12-01             6   \n",
       "207983        92      65.57       Ethiopia  2010-12-01             6   \n",
       "524392        94      82.07           Togo  2010-12-01            13   \n",
       "328770        39      44.97       Zimbabwe  2010-12-01            10   \n",
       "508035        52      85.54        Tunisia  2011-08-01             4   \n",
       "326012         4      51.22   South Africa  2011-03-01             7   \n",
       "252206        72      56.65          Ghana  2011-07-01             1   \n",
       "395139        38      92.60  Cote d'Ivoire  2010-12-01            11   \n",
       "517640        80      44.57         Rwanda  2011-09-01             4   \n",
       "196996         5      66.02   Burkina Faso  2011-05-01             1   \n",
       "\n",
       "        SalePrice  \n",
       "190916    4874.88  \n",
       "207983    6032.44  \n",
       "524392    7714.58  \n",
       "328770    1753.83  \n",
       "508035    4448.08  \n",
       "326012     204.88  \n",
       "252206    4078.80  \n",
       "395139    3518.80  \n",
       "517640    3565.60  \n",
       "196996     330.10  "
      ]
     },
     "execution_count": 194,
     "metadata": {},
     "output_type": "execute_result"
    }
   ],
   "source": [
    "data.sample(10)"
   ]
  },
  {
   "cell_type": "markdown",
   "id": "de15deac-18b2-4229-8fba-4b0d2aa064bc",
   "metadata": {},
   "source": [
    "## PROJECT ENHANCEMENT SEGMENT\n",
    "\n",
    "To enhance the project deliverables, you are required to segment the data and  implement a Version Control system using git\n",
    "Customer segmentation: in addition to cohort analysis, we will be utilising a clustering algorithm to  to create clusters and perform segmentation analysis, to help us understand the purchasing behavior of the customers\n",
    "\n",
    "\n",
    "Git : you are required to set a version control system using git that will enable you track version changes and code history from your work on github"
   ]
  },
  {
   "cell_type": "markdown",
   "id": "1ee12442-2b50-4968-afad-f4574fd9070d",
   "metadata": {},
   "source": [
    "### PERFORM FEATURE ENGINEERING"
   ]
  },
  {
   "cell_type": "code",
   "execution_count": 195,
   "id": "ce6a1f5e-a66c-4432-a391-451356460c9d",
   "metadata": {},
   "outputs": [
    {
     "data": {
      "text/html": [
       "<div>\n",
       "<style scoped>\n",
       "    .dataframe tbody tr th:only-of-type {\n",
       "        vertical-align: middle;\n",
       "    }\n",
       "\n",
       "    .dataframe tbody tr th {\n",
       "        vertical-align: top;\n",
       "    }\n",
       "\n",
       "    .dataframe thead th {\n",
       "        text-align: right;\n",
       "    }\n",
       "</style>\n",
       "<table border=\"1\" class=\"dataframe\">\n",
       "  <thead>\n",
       "    <tr style=\"text-align: right;\">\n",
       "      <th></th>\n",
       "      <th></th>\n",
       "      <th>TotalSales</th>\n",
       "      <th>OrderCount</th>\n",
       "      <th>AvgOrderValue</th>\n",
       "    </tr>\n",
       "    <tr>\n",
       "      <th>Country</th>\n",
       "      <th>CustomerID</th>\n",
       "      <th></th>\n",
       "      <th></th>\n",
       "      <th></th>\n",
       "    </tr>\n",
       "  </thead>\n",
       "  <tbody>\n",
       "    <tr>\n",
       "      <th rowspan=\"10\" valign=\"top\">Zimbabwe</th>\n",
       "      <th>18252.0</th>\n",
       "      <td>14990.52</td>\n",
       "      <td>8</td>\n",
       "      <td>1873.815000</td>\n",
       "    </tr>\n",
       "    <tr>\n",
       "      <th>18257.0</th>\n",
       "      <td>5839.33</td>\n",
       "      <td>2</td>\n",
       "      <td>2919.665000</td>\n",
       "    </tr>\n",
       "    <tr>\n",
       "      <th>18259.0</th>\n",
       "      <td>8699.08</td>\n",
       "      <td>2</td>\n",
       "      <td>4349.540000</td>\n",
       "    </tr>\n",
       "    <tr>\n",
       "      <th>18260.0</th>\n",
       "      <td>2434.62</td>\n",
       "      <td>3</td>\n",
       "      <td>811.540000</td>\n",
       "    </tr>\n",
       "    <tr>\n",
       "      <th>18263.0</th>\n",
       "      <td>7162.27</td>\n",
       "      <td>3</td>\n",
       "      <td>2387.423333</td>\n",
       "    </tr>\n",
       "    <tr>\n",
       "      <th>18265.0</th>\n",
       "      <td>1286.88</td>\n",
       "      <td>1</td>\n",
       "      <td>1286.880000</td>\n",
       "    </tr>\n",
       "    <tr>\n",
       "      <th>18272.0</th>\n",
       "      <td>10964.62</td>\n",
       "      <td>4</td>\n",
       "      <td>2741.155000</td>\n",
       "    </tr>\n",
       "    <tr>\n",
       "      <th>18274.0</th>\n",
       "      <td>9490.96</td>\n",
       "      <td>3</td>\n",
       "      <td>3163.653333</td>\n",
       "    </tr>\n",
       "    <tr>\n",
       "      <th>18283.0</th>\n",
       "      <td>55417.95</td>\n",
       "      <td>18</td>\n",
       "      <td>3078.775000</td>\n",
       "    </tr>\n",
       "    <tr>\n",
       "      <th>18287.0</th>\n",
       "      <td>9066.19</td>\n",
       "      <td>3</td>\n",
       "      <td>3022.063333</td>\n",
       "    </tr>\n",
       "  </tbody>\n",
       "</table>\n",
       "</div>"
      ],
      "text/plain": [
       "                     TotalSales  OrderCount  AvgOrderValue\n",
       "Country  CustomerID                                       \n",
       "Zimbabwe 18252.0       14990.52           8    1873.815000\n",
       "         18257.0        5839.33           2    2919.665000\n",
       "         18259.0        8699.08           2    4349.540000\n",
       "         18260.0        2434.62           3     811.540000\n",
       "         18263.0        7162.27           3    2387.423333\n",
       "         18265.0        1286.88           1    1286.880000\n",
       "         18272.0       10964.62           4    2741.155000\n",
       "         18274.0        9490.96           3    3163.653333\n",
       "         18283.0       55417.95          18    3078.775000\n",
       "         18287.0        9066.19           3    3022.063333"
      ]
     },
     "execution_count": 195,
     "metadata": {},
     "output_type": "execute_result"
    }
   ],
   "source": [
    "# Group the DataFrame by the CustomerID column\n",
    "customer_data = data.groupby([\"Country\",\"CustomerID\"])\n",
    "\n",
    "# Calculate the total sales, order count, and average order value for each customer\n",
    "total_sales = customer_data[\"SalePrice\"].sum()\n",
    "order_count = customer_data[\"InvoiceDate\"].size()\n",
    "avg_order_value = total_sales / order_count\n",
    "\n",
    "# Create a new DataFrame with the aggregated results\n",
    "results = pd.DataFrame({\n",
    "    \"TotalSales\": total_sales,\n",
    "    \"OrderCount\": order_count,\n",
    "    \"AvgOrderValue\": avg_order_value\n",
    "})\n",
    "\n",
    "# Print the results\n",
    "results.tail(10)"
   ]
  },
  {
   "cell_type": "code",
   "execution_count": null,
   "id": "0f417aa9-15c9-4558-8978-aad0787a3b64",
   "metadata": {
    "id": "0f417aa9-15c9-4558-8978-aad0787a3b64"
   },
   "outputs": [],
   "source": []
  },
  {
   "cell_type": "code",
   "execution_count": 196,
   "id": "e11f707b-1111-4e43-866d-00a73c7fa78a",
   "metadata": {},
   "outputs": [
    {
     "data": {
      "text/html": [
       "<div>\n",
       "<style scoped>\n",
       "    .dataframe tbody tr th:only-of-type {\n",
       "        vertical-align: middle;\n",
       "    }\n",
       "\n",
       "    .dataframe tbody tr th {\n",
       "        vertical-align: top;\n",
       "    }\n",
       "\n",
       "    .dataframe thead th {\n",
       "        text-align: right;\n",
       "    }\n",
       "</style>\n",
       "<table border=\"1\" class=\"dataframe\">\n",
       "  <thead>\n",
       "    <tr style=\"text-align: right;\">\n",
       "      <th></th>\n",
       "      <th></th>\n",
       "      <th>TotalSales</th>\n",
       "      <th>OrderCount</th>\n",
       "      <th>AvgOrderValue</th>\n",
       "    </tr>\n",
       "    <tr>\n",
       "      <th>Country</th>\n",
       "      <th>CustomerID</th>\n",
       "      <th></th>\n",
       "      <th></th>\n",
       "      <th></th>\n",
       "    </tr>\n",
       "  </thead>\n",
       "  <tbody>\n",
       "    <tr>\n",
       "      <th>Burkina Faso</th>\n",
       "      <th>14868.0</th>\n",
       "      <td>13311.53</td>\n",
       "      <td>5</td>\n",
       "      <td>2662.306000</td>\n",
       "    </tr>\n",
       "    <tr>\n",
       "      <th>Mozambique</th>\n",
       "      <th>15434.0</th>\n",
       "      <td>13464.19</td>\n",
       "      <td>5</td>\n",
       "      <td>2692.838000</td>\n",
       "    </tr>\n",
       "    <tr>\n",
       "      <th>Senegal</th>\n",
       "      <th>13812.0</th>\n",
       "      <td>12628.28</td>\n",
       "      <td>3</td>\n",
       "      <td>4209.426667</td>\n",
       "    </tr>\n",
       "    <tr>\n",
       "      <th>Togo</th>\n",
       "      <th>16504.0</th>\n",
       "      <td>5782.95</td>\n",
       "      <td>3</td>\n",
       "      <td>1927.650000</td>\n",
       "    </tr>\n",
       "    <tr>\n",
       "      <th>Ethiopia</th>\n",
       "      <th>13517.0</th>\n",
       "      <td>17475.76</td>\n",
       "      <td>5</td>\n",
       "      <td>3495.152000</td>\n",
       "    </tr>\n",
       "    <tr>\n",
       "      <th>Mali</th>\n",
       "      <th>15186.0</th>\n",
       "      <td>7459.14</td>\n",
       "      <td>2</td>\n",
       "      <td>3729.570000</td>\n",
       "    </tr>\n",
       "    <tr>\n",
       "      <th>Cameroon</th>\n",
       "      <th>16688.0</th>\n",
       "      <td>16025.72</td>\n",
       "      <td>6</td>\n",
       "      <td>2670.953333</td>\n",
       "    </tr>\n",
       "    <tr>\n",
       "      <th>Somalia</th>\n",
       "      <th>17783.0</th>\n",
       "      <td>6733.60</td>\n",
       "      <td>1</td>\n",
       "      <td>6733.600000</td>\n",
       "    </tr>\n",
       "    <tr>\n",
       "      <th>Cote d'Ivoire</th>\n",
       "      <th>14930.0</th>\n",
       "      <td>1797.39</td>\n",
       "      <td>3</td>\n",
       "      <td>599.130000</td>\n",
       "    </tr>\n",
       "    <tr>\n",
       "      <th>Ghana</th>\n",
       "      <th>14107.0</th>\n",
       "      <td>11560.39</td>\n",
       "      <td>4</td>\n",
       "      <td>2890.097500</td>\n",
       "    </tr>\n",
       "  </tbody>\n",
       "</table>\n",
       "</div>"
      ],
      "text/plain": [
       "                          TotalSales  OrderCount  AvgOrderValue\n",
       "Country       CustomerID                                       \n",
       "Burkina Faso  14868.0       13311.53           5    2662.306000\n",
       "Mozambique    15434.0       13464.19           5    2692.838000\n",
       "Senegal       13812.0       12628.28           3    4209.426667\n",
       "Togo          16504.0        5782.95           3    1927.650000\n",
       "Ethiopia      13517.0       17475.76           5    3495.152000\n",
       "Mali          15186.0        7459.14           2    3729.570000\n",
       "Cameroon      16688.0       16025.72           6    2670.953333\n",
       "Somalia       17783.0        6733.60           1    6733.600000\n",
       "Cote d'Ivoire 14930.0        1797.39           3     599.130000\n",
       "Ghana         14107.0       11560.39           4    2890.097500"
      ]
     },
     "execution_count": 196,
     "metadata": {},
     "output_type": "execute_result"
    }
   ],
   "source": [
    "results.sample(10)"
   ]
  },
  {
   "cell_type": "code",
   "execution_count": 197,
   "id": "5a960ad8-21e4-44bd-bed9-1eca78933aa6",
   "metadata": {},
   "outputs": [
    {
     "data": {
      "text/plain": [
       "(84912, 3)"
      ]
     },
     "execution_count": 197,
     "metadata": {},
     "output_type": "execute_result"
    }
   ],
   "source": [
    "results.shape"
   ]
  },
  {
   "cell_type": "code",
   "execution_count": 198,
   "id": "700e75dd-cb97-46c9-a5dd-860dcb33946e",
   "metadata": {},
   "outputs": [
    {
     "data": {
      "text/plain": [
       "<Axes: xlabel='TotalSales', ylabel='Count'>"
      ]
     },
     "execution_count": 198,
     "metadata": {},
     "output_type": "execute_result"
    },
    {
     "data": {
      "image/png": "[encoded data removed]",
      "text/plain": [
       "<Figure size 800x550 with 1 Axes>"
      ]
     },
     "metadata": {},
     "output_type": "display_data"
    }
   ],
   "source": [
    "import seaborn as sb\n",
    "#visualize the distribution of the total sales feature\n",
    "sb.histplot(results['TotalSales'],bins=100)\n",
    "#plt.xscale('log')"
   ]
  },
  {
   "cell_type": "code",
   "execution_count": 199,
   "id": "cb846d11-17d1-4f43-9d4a-881851603e65",
   "metadata": {
    "id": "cb846d11-17d1-4f43-9d4a-881851603e65"
   },
   "outputs": [
    {
     "name": "stdout",
     "output_type": "stream",
     "text": [
      "         TotalSales    OrderCount  AvgOrderValue\n",
      "count  84912.000000  84912.000000   84912.000000\n",
      "mean       0.014267      0.011737       0.255576\n",
      "std        0.029919      0.030493       0.155533\n",
      "min        0.000000      0.000000       0.000000\n",
      "25%        0.003228      0.000000       0.149668\n",
      "50%        0.007878      0.006192       0.239271\n",
      "75%        0.016411      0.012384       0.330730\n",
      "max        1.000000      1.000000       1.000000\n"
     ]
    }
   ],
   "source": [
    "from sklearn.preprocessing import MinMaxScaler,RobustScaler,StandardScaler\n",
    "\n",
    "scaler = MinMaxScaler()\n",
    "x_scaled = pd.DataFrame(scaler.fit_transform(results),index=results.index,columns=results.columns)\n",
    "print(x_scaled.describe())"
   ]
  },
  {
   "cell_type": "code",
   "execution_count": 200,
   "id": "33280a4b-b1d2-4055-83fb-2bd872869865",
   "metadata": {},
   "outputs": [
    {
     "data": {
      "text/html": [
       "<div>\n",
       "<style scoped>\n",
       "    .dataframe tbody tr th:only-of-type {\n",
       "        vertical-align: middle;\n",
       "    }\n",
       "\n",
       "    .dataframe tbody tr th {\n",
       "        vertical-align: top;\n",
       "    }\n",
       "\n",
       "    .dataframe thead th {\n",
       "        text-align: right;\n",
       "    }\n",
       "</style>\n",
       "<table border=\"1\" class=\"dataframe\">\n",
       "  <thead>\n",
       "    <tr style=\"text-align: right;\">\n",
       "      <th></th>\n",
       "      <th></th>\n",
       "      <th>TotalSales</th>\n",
       "      <th>OrderCount</th>\n",
       "      <th>AvgOrderValue</th>\n",
       "    </tr>\n",
       "    <tr>\n",
       "      <th>Country</th>\n",
       "      <th>CustomerID</th>\n",
       "      <th></th>\n",
       "      <th></th>\n",
       "      <th></th>\n",
       "    </tr>\n",
       "  </thead>\n",
       "  <tbody>\n",
       "    <tr>\n",
       "      <th rowspan=\"5\" valign=\"top\">Algeria</th>\n",
       "      <th>12347.0</th>\n",
       "      <td>0.010872</td>\n",
       "      <td>0.006192</td>\n",
       "      <td>0.310608</td>\n",
       "    </tr>\n",
       "    <tr>\n",
       "      <th>12348.0</th>\n",
       "      <td>0.011315</td>\n",
       "      <td>0.000000</td>\n",
       "      <td>0.970189</td>\n",
       "    </tr>\n",
       "    <tr>\n",
       "      <th>12349.0</th>\n",
       "      <td>0.003556</td>\n",
       "      <td>0.006192</td>\n",
       "      <td>0.101537</td>\n",
       "    </tr>\n",
       "    <tr>\n",
       "      <th>12350.0</th>\n",
       "      <td>0.001665</td>\n",
       "      <td>0.000000</td>\n",
       "      <td>0.142724</td>\n",
       "    </tr>\n",
       "    <tr>\n",
       "      <th>12352.0</th>\n",
       "      <td>0.007664</td>\n",
       "      <td>0.003096</td>\n",
       "      <td>0.328475</td>\n",
       "    </tr>\n",
       "  </tbody>\n",
       "</table>\n",
       "</div>"
      ],
      "text/plain": [
       "                    TotalSales  OrderCount  AvgOrderValue\n",
       "Country CustomerID                                       \n",
       "Algeria 12347.0       0.010872    0.006192       0.310608\n",
       "        12348.0       0.011315    0.000000       0.970189\n",
       "        12349.0       0.003556    0.006192       0.101537\n",
       "        12350.0       0.001665    0.000000       0.142724\n",
       "        12352.0       0.007664    0.003096       0.328475"
      ]
     },
     "execution_count": 200,
     "metadata": {},
     "output_type": "execute_result"
    }
   ],
   "source": [
    "x_scaled.head()"
   ]
  },
  {
   "cell_type": "code",
   "execution_count": 201,
   "id": "774ad9da-789a-41cf-81ad-197b74a0be87",
   "metadata": {},
   "outputs": [
    {
     "name": "stderr",
     "output_type": "stream",
     "text": [
      "/var/folders/bv/_88d1hwx037799pwfgpxj4040000gn/T/ipykernel_56818/1790505954.py:8: UserWarning: No data for colormapping provided via 'c'. Parameters 'cmap' will be ignored\n",
      "  ax.scatter(x,y,z,marker=\"o\",cmap=cmap)\n"
     ]
    },
    {
     "data": {
      "text/plain": [
       "Text(0.5, 0.92, '3d visualization of our data')"
      ]
     },
     "execution_count": 201,
     "metadata": {},
     "output_type": "execute_result"
    },
    {
     "data": {
      "image/png": "[encoded data removed]",
      "text/plain": [
       "<Figure size 1000x700 with 1 Axes>"
      ]
     },
     "metadata": {},
     "output_type": "display_data"
    }
   ],
   "source": [
    "#plotting new data points\n",
    "y=x_scaled['TotalSales']\n",
    "x=x_scaled['AvgOrderValue']\n",
    "z=x_scaled['OrderCount']\n",
    "cmap = \"Accent\"\n",
    "fig = plt.figure(figsize=(10,7))\n",
    "ax=fig.add_subplot(111,projection=\"3d\")\n",
    "ax.scatter(x,y,z,marker=\"o\",cmap=cmap)\n",
    "ax.set_title(\"3d visualization of our data\")"
   ]
  },
  {
   "cell_type": "code",
   "execution_count": 202,
   "id": "53059fb2-180a-4524-ac56-61ed0655ca58",
   "metadata": {},
   "outputs": [
    {
     "name": "stderr",
     "output_type": "stream",
     "text": [
      "/Users/mandeebot/miniforge3/lib/python3.10/site-packages/sklearn/cluster/_kmeans.py:1412: FutureWarning: The default value of `n_init` will change from 10 to 'auto' in 1.4. Set the value of `n_init` explicitly to suppress the warning\n",
      "  super()._check_params_vs_input(X, default_n_init=10)\n",
      "/Users/mandeebot/miniforge3/lib/python3.10/site-packages/sklearn/cluster/_kmeans.py:1412: FutureWarning: The default value of `n_init` will change from 10 to 'auto' in 1.4. Set the value of `n_init` explicitly to suppress the warning\n",
      "  super()._check_params_vs_input(X, default_n_init=10)\n",
      "/Users/mandeebot/miniforge3/lib/python3.10/site-packages/sklearn/cluster/_kmeans.py:1412: FutureWarning: The default value of `n_init` will change from 10 to 'auto' in 1.4. Set the value of `n_init` explicitly to suppress the warning\n",
      "  super()._check_params_vs_input(X, default_n_init=10)\n",
      "/Users/mandeebot/miniforge3/lib/python3.10/site-packages/sklearn/cluster/_kmeans.py:1412: FutureWarning: The default value of `n_init` will change from 10 to 'auto' in 1.4. Set the value of `n_init` explicitly to suppress the warning\n",
      "  super()._check_params_vs_input(X, default_n_init=10)\n",
      "/Users/mandeebot/miniforge3/lib/python3.10/site-packages/sklearn/cluster/_kmeans.py:1412: FutureWarning: The default value of `n_init` will change from 10 to 'auto' in 1.4. Set the value of `n_init` explicitly to suppress the warning\n",
      "  super()._check_params_vs_input(X, default_n_init=10)\n",
      "/Users/mandeebot/miniforge3/lib/python3.10/site-packages/sklearn/cluster/_kmeans.py:1412: FutureWarning: The default value of `n_init` will change from 10 to 'auto' in 1.4. Set the value of `n_init` explicitly to suppress the warning\n",
      "  super()._check_params_vs_input(X, default_n_init=10)\n",
      "/Users/mandeebot/miniforge3/lib/python3.10/site-packages/sklearn/cluster/_kmeans.py:1412: FutureWarning: The default value of `n_init` will change from 10 to 'auto' in 1.4. Set the value of `n_init` explicitly to suppress the warning\n",
      "  super()._check_params_vs_input(X, default_n_init=10)\n",
      "/Users/mandeebot/miniforge3/lib/python3.10/site-packages/sklearn/cluster/_kmeans.py:1412: FutureWarning: The default value of `n_init` will change from 10 to 'auto' in 1.4. Set the value of `n_init` explicitly to suppress the warning\n",
      "  super()._check_params_vs_input(X, default_n_init=10)\n",
      "/Users/mandeebot/miniforge3/lib/python3.10/site-packages/sklearn/cluster/_kmeans.py:1412: FutureWarning: The default value of `n_init` will change from 10 to 'auto' in 1.4. Set the value of `n_init` explicitly to suppress the warning\n",
      "  super()._check_params_vs_input(X, default_n_init=10)\n"
     ]
    },
    {
     "data": {
      "text/html": [
       "<style>#sk-container-id-2 {color: black;}#sk-container-id-2 pre{padding: 0;}#sk-container-id-2 div.sk-toggleable {background-color: white;}#sk-container-id-2 label.sk-toggleable__label {cursor: pointer;display: block;width: 100%;margin-bottom: 0;padding: 0.3em;box-sizing: border-box;text-align: center;}#sk-container-id-2 label.sk-toggleable__label-arrow:before {content: \"▸\";float: left;margin-right: 0.25em;color: #696969;}#sk-container-id-2 label.sk-toggleable__label-arrow:hover:before {color: black;}#sk-container-id-2 div.sk-estimator:hover label.sk-toggleable__label-arrow:before {color: black;}#sk-container-id-2 div.sk-toggleable__content {max-height: 0;max-width: 0;overflow: hidden;text-align: left;background-color: #f0f8ff;}#sk-container-id-2 div.sk-toggleable__content pre {margin: 0.2em;color: black;border-radius: 0.25em;background-color: #f0f8ff;}#sk-container-id-2 input.sk-toggleable__control:checked~div.sk-toggleable__content {max-height: 200px;max-width: 100%;overflow: auto;}#sk-container-id-2 input.sk-toggleable__control:checked~label.sk-toggleable__label-arrow:before {content: \"▾\";}#sk-container-id-2 div.sk-estimator input.sk-toggleable__control:checked~label.sk-toggleable__label {background-color: #d4ebff;}#sk-container-id-2 div.sk-label input.sk-toggleable__control:checked~label.sk-toggleable__label {background-color: #d4ebff;}#sk-container-id-2 input.sk-hidden--visually {border: 0;clip: rect(1px 1px 1px 1px);clip: rect(1px, 1px, 1px, 1px);height: 1px;margin: -1px;overflow: hidden;padding: 0;position: absolute;width: 1px;}#sk-container-id-2 div.sk-estimator {font-family: monospace;background-color: #f0f8ff;border: 1px dotted black;border-radius: 0.25em;box-sizing: border-box;margin-bottom: 0.5em;}#sk-container-id-2 div.sk-estimator:hover {background-color: #d4ebff;}#sk-container-id-2 div.sk-parallel-item::after {content: \"\";width: 100%;border-bottom: 1px solid gray;flex-grow: 1;}#sk-container-id-2 div.sk-label:hover label.sk-toggleable__label {background-color: #d4ebff;}#sk-container-id-2 div.sk-serial::before {content: \"\";position: absolute;border-left: 1px solid gray;box-sizing: border-box;top: 0;bottom: 0;left: 50%;z-index: 0;}#sk-container-id-2 div.sk-serial {display: flex;flex-direction: column;align-items: center;background-color: white;padding-right: 0.2em;padding-left: 0.2em;position: relative;}#sk-container-id-2 div.sk-item {position: relative;z-index: 1;}#sk-container-id-2 div.sk-parallel {display: flex;align-items: stretch;justify-content: center;background-color: white;position: relative;}#sk-container-id-2 div.sk-item::before, #sk-container-id-2 div.sk-parallel-item::before {content: \"\";position: absolute;border-left: 1px solid gray;box-sizing: border-box;top: 0;bottom: 0;left: 50%;z-index: -1;}#sk-container-id-2 div.sk-parallel-item {display: flex;flex-direction: column;z-index: 1;position: relative;background-color: white;}#sk-container-id-2 div.sk-parallel-item:first-child::after {align-self: flex-end;width: 50%;}#sk-container-id-2 div.sk-parallel-item:last-child::after {align-self: flex-start;width: 50%;}#sk-container-id-2 div.sk-parallel-item:only-child::after {width: 0;}#sk-container-id-2 div.sk-dashed-wrapped {border: 1px dashed gray;margin: 0 0.4em 0.5em 0.4em;box-sizing: border-box;padding-bottom: 0.4em;background-color: white;}#sk-container-id-2 div.sk-label label {font-family: monospace;font-weight: bold;display: inline-block;line-height: 1.2em;}#sk-container-id-2 div.sk-label-container {text-align: center;}#sk-container-id-2 div.sk-container {/* jupyter's `normalize.less` sets `[hidden] { display: none; }` but bootstrap.min.css set `[hidden] { display: none !important; }` so we also need the `!important` here to be able to override the default hidden behavior on the sphinx rendered scikit-learn.org. See: https://github.com/scikit-learn/scikit-learn/issues/21755 */display: inline-block !important;position: relative;}#sk-container-id-2 div.sk-text-repr-fallback {display: none;}</style><div id=\"sk-container-id-2\" class=\"sk-top-container\"><div class=\"sk-text-repr-fallback\"><pre>KElbowVisualizer(ax=&lt;Axes: &gt;, estimator=KMeans(n_clusters=10))</pre><b>In a Jupyter environment, please rerun this cell to show the HTML representation or trust the notebook. <br />On GitHub, the HTML representation is unable to render, please try loading this page with nbviewer.org.</b></div><div class=\"sk-container\" hidden><div class=\"sk-item sk-dashed-wrapped\"><div class=\"sk-label-container\"><div class=\"sk-label sk-toggleable\"><input class=\"sk-toggleable__control sk-hidden--visually\" id=\"sk-estimator-id-4\" type=\"checkbox\" ><label for=\"sk-estimator-id-4\" class=\"sk-toggleable__label sk-toggleable__label-arrow\">KElbowVisualizer</label><div class=\"sk-toggleable__content\"><pre>KElbowVisualizer(ax=&lt;Axes: &gt;, estimator=KMeans(n_clusters=10))</pre></div></div></div><div class=\"sk-parallel\"><div class=\"sk-parallel-item\"><div class=\"sk-item\"><div class=\"sk-label-container\"><div class=\"sk-label sk-toggleable\"><input class=\"sk-toggleable__control sk-hidden--visually\" id=\"sk-estimator-id-5\" type=\"checkbox\" ><label for=\"sk-estimator-id-5\" class=\"sk-toggleable__label sk-toggleable__label-arrow\">estimator: KMeans</label><div class=\"sk-toggleable__content\"><pre>KMeans(n_clusters=10)</pre></div></div></div><div class=\"sk-serial\"><div class=\"sk-item\"><div class=\"sk-estimator sk-toggleable\"><input class=\"sk-toggleable__control sk-hidden--visually\" id=\"sk-estimator-id-6\" type=\"checkbox\" ><label for=\"sk-estimator-id-6\" class=\"sk-toggleable__label sk-toggleable__label-arrow\">KMeans</label><div class=\"sk-toggleable__content\"><pre>KMeans(n_clusters=10)</pre></div></div></div></div></div></div></div></div></div></div>"
      ],
      "text/plain": [
       "KElbowVisualizer(ax=<Axes: >, estimator=KMeans(n_clusters=10))"
      ]
     },
     "execution_count": 202,
     "metadata": {},
     "output_type": "execute_result"
    },
    {
     "data": {
      "image/png": "[encoded data removed]",
      "text/plain": [
       "<Figure size 800x550 with 2 Axes>"
      ]
     },
     "metadata": {},
     "output_type": "display_data"
    }
   ],
   "source": [
    "#importing clustering algo, silheoute score & kelbow visualizer\n",
    "from sklearn.cluster import KMeans\n",
    "from sklearn.metrics import silhouette_score\n",
    "from yellowbrick.cluster import KElbowVisualizer\n",
    "\n",
    "#using the k elbow method to figure the appropriate number of clusters\n",
    "elbow_k = KElbowVisualizer(estimator=KMeans())\n",
    "elbow_k.fit(x_scaled)"
   ]
  },
  {
   "cell_type": "code",
   "execution_count": 203,
   "id": "c7089f2d-3efd-4e07-ac7d-207d971f896b",
   "metadata": {},
   "outputs": [
    {
     "name": "stderr",
     "output_type": "stream",
     "text": [
      "/Users/mandeebot/miniforge3/lib/python3.10/site-packages/sklearn/cluster/_kmeans.py:1412: FutureWarning: The default value of `n_init` will change from 10 to 'auto' in 1.4. Set the value of `n_init` explicitly to suppress the warning\n",
      "  super()._check_params_vs_input(X, default_n_init=10)\n",
      "No artists with labels found to put in legend.  Note that artists whose label start with an underscore are ignored when legend() is called with no argument.\n"
     ]
    },
    {
     "data": {
      "image/png": "[encoded data removed]",
      "text/plain": [
       "<Figure size 1000x500 with 1 Axes>"
      ]
     },
     "metadata": {},
     "output_type": "display_data"
    },
    {
     "name": "stdout",
     "output_type": "stream",
     "text": [
      "Silhouette Score: 0.9340\n"
     ]
    }
   ],
   "source": [
    "#applying kmeans clustering algorith\n",
    "# K-means clustering\n",
    "n_clusters = 4\n",
    "cluster = KMeans(n_clusters=n_clusters)\n",
    "cluster.fit(x_scaled)\n",
    "\n",
    "# Add cluster labels to the data\n",
    "x_scaled[\"Cluster\"] = cluster.labels_\n",
    "\n",
    "# Visualize the clusters\n",
    "plt.figure(figsize=(10, 5))\n",
    "plt.scatter(\n",
    "    x_scaled[\"AvgOrderValue\"],\n",
    "    x_scaled[\"OrderCount\"],\n",
    "    c=x_scaled[\"Cluster\"],\n",
    "    s=50,\n",
    "    cmap='Accent',\n",
    ")\n",
    "plt.title(\"K-Means Clustering\")\n",
    "plt.xlabel(\"AvgOrderValue\")\n",
    "plt.ylabel(\"OrderCount\")\n",
    "plt.legend()\n",
    "plt.show()\n",
    "\n",
    "# Calculate the silhouette score\n",
    "silhouette_score = silhouette_score(x_scaled,\n",
    "    x_scaled[\"Cluster\"], metric=\"euclidean\")\n",
    "print(f\"Silhouette Score: {silhouette_score:.4f}\")"
   ]
  },
  {
   "cell_type": "markdown",
   "id": "15858ef5-96fc-4ce4-a26a-ceea8b9a2688",
   "metadata": {},
   "source": [
    "**observations**\n",
    ">\n",
    "- Customers in the 4th cluster have a high value for OrderCount, but their AvgOrderValue is low. Basically, these customers make frequent purchases of low-value items. The business can make recommendations of low-value items to this segment, in order to get a high engagement rate.\n",
    "\n",
    "The customers in the 1st cluster have low numbers of orders and total revenue, but their average per-order value is high. So these customers buy expensive items infrequently. It would be great to recommend expensive products to this segment group.\n"
   ]
  },
  {
   "cell_type": "code",
   "execution_count": 204,
   "id": "8fcf91ba-c789-4b7c-bdfe-8904499b9d8a",
   "metadata": {},
   "outputs": [
    {
     "data": {
      "text/plain": [
       "Text(0.5, 1.0, 'distribution of the new clusters')"
      ]
     },
     "execution_count": 204,
     "metadata": {},
     "output_type": "execute_result"
    },
    {
     "data": {
      "image/png": "[encoded data removed]",
      "text/plain": [
       "<Figure size 1000x600 with 1 Axes>"
      ]
     },
     "metadata": {},
     "output_type": "display_data"
    }
   ],
   "source": [
    "#distribution of cluster\n",
    "plt.figure(figsize=(10,6))\n",
    "sb.countplot(x = x_scaled.Cluster)\n",
    "plt.title(\"distribution of the new clusters\")\n"
   ]
  },
  {
   "cell_type": "markdown",
   "id": "07b7cb8d-92c7-436b-8a00-4a5430a02cf9",
   "metadata": {},
   "source": [
    "**observation**\n",
    ">\n",
    "- the 4th cluster, (cluster 3) has the lowest numbers for all three attributes - Total Sales, Order Count, and Average Order Value. It means that the 4th cluster contains customers with the lowest amount of sales, orders, and lowest average per-order value.\n",
    "- First cluster, cluster (0) has the highest numbers for total sales and order count attributes. The customers in this cluster purchase expensive items and give the business the highest revenue. The company should focus on this cluster, as it will result in the highest ROI.\n"
   ]
  },
  {
   "cell_type": "code",
   "execution_count": 205,
   "id": "dbab8fab-7657-4e61-a157-2fccb1a5a4fa",
   "metadata": {},
   "outputs": [
    {
     "data": {
      "text/plain": [
       "Text(0.5, 1.0, 'distribution of the new clusters')"
      ]
     },
     "execution_count": 205,
     "metadata": {},
     "output_type": "execute_result"
    },
    {
     "data": {
      "image/png": "[encoded data removed]",
      "text/plain": [
       "<Figure size 1000x600 with 1 Axes>"
      ]
     },
     "metadata": {},
     "output_type": "display_data"
    }
   ],
   "source": [
    "#distribution of cluster\n",
    "plt.figure(figsize=(10,6))\n",
    "sb.boxplot(x = x_scaled.Cluster,y=\"TotalSales\",data=results)\n",
    "plt.title(\"distribution of the new clusters\")\n"
   ]
  },
  {
   "cell_type": "code",
   "execution_count": 206,
   "id": "0a70123b-e627-4362-b4d8-ecc5fa4ddd86",
   "metadata": {},
   "outputs": [
    {
     "data": {
      "text/plain": [
       "Text(0.5, 1.0, 'distribution of the new clusters')"
      ]
     },
     "execution_count": 206,
     "metadata": {},
     "output_type": "execute_result"
    },
    {
     "data": {
      "image/png": "[encoded data removed]",
      "text/plain": [
       "<Figure size 1000x600 with 1 Axes>"
      ]
     },
     "metadata": {},
     "output_type": "display_data"
    }
   ],
   "source": [
    "#distribution of cluster\n",
    "plt.figure(figsize=(10,6))\n",
    "sb.boxplot(x = x_scaled.Cluster,y=\"AvgOrderValue\",data=results)\n",
    "plt.title(\"distribution of the new clusters\")"
   ]
  },
  {
   "cell_type": "code",
   "execution_count": null,
   "id": "591c45d5-ec2c-4946-9845-b0c86be79cc4",
   "metadata": {},
   "outputs": [],
   "source": []
  },
  {
   "cell_type": "markdown",
   "id": "ec6bbc71-8390-42e7-aab1-6c370be031c1",
   "metadata": {},
   "source": [
    "**RECOMMENDATIONS**\n",
    "\n",
    "- **Identify Factors Driving High Retention (December 2010):** Analyze what factors have contributed to the high retention rate for the December 2010 cohort. Was there a specific marketing campaign, product improvement, or customer engagement strategy that worked well for this group? Try to replicate successful strategies for other cohorts.\n",
    "\n",
    "- **Investigate December 2011 Drop:** Investigate why all cohorts have low retention rates on December 2011. It might involve analyzing customer feedback, product quality, customer service, or any changes in your business operations during that time. Identifying and addressing the root causes of this drop is crucial for improving future retention rates.\n",
    "\n",
    "- **Set Realistic Targets:** While the standard e-commerce retention rate range is 20% to 40%, it's essential to set targets that are specific to your business and its circumstances. Aim to improve retention rates gradually over time based on your historical data and industry benchmarks.\n",
    "\n",
    "- **Implement Retention Strategies:** Develop and implement retention strategies that are tailored to different cohorts of customers. Personalized marketing, loyalty programs, and targeted communication can help improve retention rates.\n",
    "\n",
    "- **Continuously Monitor and Adapt:** Retention rates can change over time due to various factors, so it's crucial to continuously monitor them and adapt your strategies accordingly. Regularly analyzing cohort data and customer behavior will help you make informed decisions to improve retention.\n",
    "- Now the company knows its customer segments, how customers in those segments behave, and what they are interested in. This information can help target the company audience better and, therefore, increase sales and ROI\n",
    ">\n",
    "This can serve as a signal to carryout targetted marketing in countries where more quantites are sold in contrast to targeting countries where more customers are acquired."
   ]
  },
  {
   "cell_type": "code",
   "execution_count": null,
   "id": "d56dbcdb-98ad-45d8-97dc-9f9e45de73c0",
   "metadata": {},
   "outputs": [],
   "source": []
  }
 ],
 "metadata": {
  "colab": {
   "provenance": []
  },
  "kernelspec": {
   "display_name": "Python 3 (ipykernel)",
   "language": "python",
   "name": "python3"
  },
  "language_info": {
   "codemirror_mode": {
    "name": "ipython",
    "version": 3
   },
   "file_extension": ".py",
   "mimetype": "text/x-python",
   "name": "python",
   "nbconvert_exporter": "python",
   "pygments_lexer": "ipython3",
   "version": "3.10.12"
  }
 },
 "nbformat": 4,
 "nbformat_minor": 5
}
